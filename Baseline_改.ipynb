{
 "cells": [
  {
   "cell_type": "markdown",
   "id": "c2a0b654-1e45-40d3-ac5b-98b716ec8054",
   "metadata": {},
   "source": [
    "## 赛事背景\n",
    "\n",
    "在电商直播爆发式增长的数字化浪潮下，短视频平台积累了海量带货视频及用户互动数据。这些数据不仅是消费者对商品体验的直接反馈，更蕴含着驱动商业决策的深层价值。在此背景下，基于带货视频评论的用户洞察分析，已成为品牌优化选品策略、评估网红带货效能的关键突破口。\n",
    "\n",
    "带货视频评论用户洞察的核心逻辑，在于对视频内容与评论数据的联合深度挖掘。通过智能识别视频中推广的核心商品，结合评论区用户的情感表达与观点聚合，企业能够精准捕捉消费者对商品的真实态度与需求痛点。这种分析方式不仅能揭示用户对商品功能、价格、服务的多维评价，还可通过情感倾向聚类，构建消费者偏好画像，为选品策略优化和网红合作评估提供数据支撑。\n",
    "\n",
    "本挑战赛聚焦\"商品识别-情感分析-聚类洞察\"的完整链条：参赛者需先基于视频内容建立商品关联关系，进而从非结构化评论中提取情感倾向，最终通过聚类总结形成结构化洞察。这一研究路径将碎片化的用户评论转化为可量化分析的商业智能，既可帮助品牌穿透数据迷雾把握消费心理，又能科学评估网红的内容种草效果与带货转化潜力，实现从内容营销到消费决策的全链路价值提升。在直播电商竞争白热化的当下，此类分析能力正成为企业构建差异化竞争优势的核心武器。\n",
    "\n",
    "## 赛事任务\n",
    "\n",
    "参赛者需基于提供的带货视频文本及评论文本数据，完成以下三阶段分析任务：\n",
    "\n",
    "- 【商品识别】精准识别推广商品；\n",
    "\n",
    "- 【情感分析】对评论文本进行多维度情感分析，涵盖维度见数据说明；\n",
    "\n",
    "- 【评论聚类】按商品对归属指定维度的评论进行聚类，并提炼类簇总结词。\n",
    "\n",
    "## 评审规则\n",
    "\n",
    "### 1.平台说明\n",
    "\n",
    "参赛选手需基于星火大模型Spark 4.0 Ultra、星火文本向量化模型或其他开源模型完成任务，允许使用微调开源模型的方式进行洞察分析。\n",
    "\n",
    "关于星火大模型Spark 4.0 Ultra和文本向量化模型的资源，组委会将为报名参赛选手统一发放API资源福利，选手用参赛账号登录讯飞开放平台个人控制台：https://console.xfyun.cn/app/myapp ，点击应用，查询API能力和接口文档。\n",
    "\n",
    "微调资源不统一发放，参赛期间选手如希望使用讯飞星辰MaaS平台进行微调，可前往https://maas.xfyun.cn/modelSquare?activityId=2512065084115968 ，完成实名认证后领取微调代金券资源并开启答题。请注意统一用参赛账号登录星辰MaaS平台；如在比赛前已参与活动则无法重复领取。星辰代金券消耗完毕后，如需继续使用，选手自行选择按需付费。\n",
    "\n",
    "### 2.数据说明\n",
    "\n",
    "本次挑战赛为参赛选手提供包含85条脱敏后的带货视频数据及6477条评论文本数据，数据包括少量有人工标注结果的训练集（仅包含商品识别和情感分析的标注结果）以及未标注的测试集。所有数据均经过脱敏处理，确保信息安全，其格式说明如下：\n",
    "\n",
    "- 带货视频内容文本信息的数据格式\n",
    "\n",
    "| 序号 | 变量名称     | 变量格式 | 解释         |\n",
    "| ---- | ------------ | -------- | ------------ |\n",
    "| 1    | video_id     | string   | 视频id       |\n",
    "| 2    | video_desc   | string   | 视频描述     |\n",
    "| 3    | video_tags   | string   | 视频标签     |\n",
    "| 4    | product_name | string   | 推广商品名称 |\n",
    "\n",
    "注：product_name需根据提供的视频信息进行提取，并从匹配到商品列表**[Xfaiyx Smart Translator, Xfaiyx Smart Recorder]**中的一项。\n",
    "\n",
    "- 评论区文本信息的数据格式\n",
    "\n",
    "| 序号 | 变量名称                 | 变量格式 | 解释                                 |\n",
    "| ---- | ------------------------ | -------- | ------------------------------------ |\n",
    "| 1    | video_id                 | string   | 视频id                               |\n",
    "| 2    | comment_id               | string   | 评论id                               |\n",
    "| 3    | comment_text             | string   | 评论文本                             |\n",
    "| 4    | sentiment_category       | int      | 关于商品的情感倾向分类               |\n",
    "| 5    | user_scenario            | int      | 是否与用户场景有关，0表示否，1表示是 |\n",
    "| 6    | user_question            | int      | 是否与用户疑问有关，0表示否，1表示是 |\n",
    "| 7    | user_suggestion          | int      | 是否与用户建议有关，0表示否，1表示是 |\n",
    "| 8    | positive_cluster_theme   | string   | 按正面倾向聚类的类簇主题词           |\n",
    "| 9    | negative_cluster_theme   | string   | 按负面倾向聚类的类簇主题词           |\n",
    "| 10   | scenario_cluster_theme   | string   | 按用户场景聚类的类簇主题词           |\n",
    "| 11   | question_cluster_theme   | string   | 按用户疑问聚类的类簇主题词           |\n",
    "| 12   | suggestion_cluster_theme | string   | 按用户建议聚类的类簇主题词           |\n",
    "\n",
    "注：\n",
    "\n",
    "a. 需进行情感分析的字段包括sentiment_category、user_scenario、user_question和user_suggestion。训练集中部分数据已提供标注，测试集需自行预测。其中字段sentiment_category情感倾向分类的数值含义见下表：\n",
    "\n",
    "| 分类值 | 1    | 2    | 3          | 4    | 5      |\n",
    "| ------ | ---- | ---- | ---------- | ---- | ------ |\n",
    "| 含义   | 正面 | 负面 | 正负都包含 | 中性 | 不相关 |\n",
    "\n",
    "b. 需进行聚类的字段包括：\n",
    "\n",
    "- positive_cluster_theme：基于训练集和测试集中正面倾向（sentiment_category=1 或 sentiment_category=3）的评论进行聚类并提炼主题词，聚类数范围为 5~8。\n",
    "- negative_cluster_theme：基于训练集和测试集中负面倾向（sentiment_category=2 或 sentiment_category=3）的评论进行聚类并提炼主题词，聚类数范围为 5~8。\n",
    "- scenario_cluster_theme：基于训练集和测试集中用户场景相关评论（user_scenario=1）进行聚类并提炼主题词，聚类数范围为 5~8。\n",
    "- question_cluster_theme：基于训练集和测试集中用户疑问相关评论（user_question=1）进行聚类并提炼主题词，聚类数范围为 5~8。\n",
    "- suggestion_cluster_theme：基于训练集和测试集中用户建议相关评论（user_suggestion=1）进行聚类并提炼主题词，聚类数范围为 5~8。\n",
    "\n",
    "**注意，聚类样本包含训练集和测试集的全部满足上述条件的评论样本。**\n",
    "\n",
    "## 评估指标\n",
    "\n",
    "本挑战赛依据参赛者提交的结果文件，采用不同评估方法对各阶段任务进行评分。最终得分由三部分相加，总分300分。具体评估标准如下：\n",
    "\n",
    "- 商品识别（100分）\n",
    "\n",
    "结果采用精确匹配评估，每个正确识别的商品得1分，错误识别的商品得0分。该阶段总评分计算公式如下：\n",
    "\n",
    "![img](https://openres.xfyun.cn/xfyundoc/2025-06-09/dfd86997-835a-4acb-aff5-3c4ca4bd45e9/1749469134692/579-1.bmp)\n",
    "\n",
    "- 情感分析（100分）\n",
    "\n",
    "结果评估采用加权平均F1-score，衡量分类模型的整体性能。该阶段总评分计算公式如下：\n",
    "\n",
    "![img](https://openres.xfyun.cn/xfyundoc/2025-06-09/483768ba-8485-436c-b777-cbb120b2c5ea/1749469379306/579-2.bmp)\n",
    "\n",
    "其中F1ᵢ为维度i的分析结果的加权F1-score，N为情感类别总数。\n",
    "\n",
    "- 评论聚类（100分）\n",
    "\n",
    "结果评估采用轮廓系数（仅计算商品识别和情感分析均正确的评论聚类结果），衡量聚类结果的紧密性和分离度。该阶段总评分计算公式如下：\n",
    "\n",
    "![img](https://openres.xfyun.cn/xfyundoc/2025-06-09/06d30dd5-471b-4762-95fa-ce097e9ca912/1749469510941/579-3.bmp)\n",
    "\n",
    "其中Silhouette coefficientᵢ为维度i的聚类结果的轮廓系数，M为需聚类的维度总数。"
   ]
  },
  {
   "cell_type": "code",
   "execution_count": 1,
   "id": "c87fa707-a62d-4d4e-abd8-346b93dcbdde",
   "metadata": {
    "execution": {
     "iopub.execute_input": "2025-07-09T08:15:31.425294Z",
     "iopub.status.busy": "2025-07-09T08:15:31.425130Z",
     "iopub.status.idle": "2025-07-09T08:15:31.850538Z",
     "shell.execute_reply": "2025-07-09T08:15:31.849998Z",
     "shell.execute_reply.started": "2025-07-09T08:15:31.425277Z"
    },
    "ExecuteTime": {
     "start_time": "2025-07-11T11:44:19.122238Z",
     "end_time": "2025-07-11T11:44:20.873305Z"
    }
   },
   "outputs": [],
   "source": [
    "import time\n",
    "\n",
    "import pandas as pd\n",
    "video_data = pd.read_csv(\"./origin_data/origin_videos_data.csv\")\n",
    "comments_data = pd.read_csv(\"./origin_data/origin_comments_data.csv\")"
   ]
  },
  {
   "cell_type": "code",
   "execution_count": 2,
   "id": "e6a4784f-f5a4-4587-b88a-c86ca1fe43a7",
   "metadata": {
    "execution": {
     "iopub.execute_input": "2025-07-09T08:15:31.851950Z",
     "iopub.status.busy": "2025-07-09T08:15:31.851690Z",
     "iopub.status.idle": "2025-07-09T08:15:31.863061Z",
     "shell.execute_reply": "2025-07-09T08:15:31.862575Z",
     "shell.execute_reply.started": "2025-07-09T08:15:31.851931Z"
    },
    "ExecuteTime": {
     "start_time": "2025-07-11T11:44:20.872292Z",
     "end_time": "2025-07-11T11:44:20.893037Z"
    }
   },
   "outputs": [
    {
     "data": {
      "text/plain": "   video_id                                         video_desc  \\\n75  v95aInR                       CENY MIESZKAŃ W EGIPCIE 2024   \n45  v7lX8Ro     Xfaiyx AI Smart Offline Digital Voice Recorder   \n69  vOREHMM  2024's Best Handheld Translator Deal! - Xfaiyx...   \n58  vmsHv2Z  This thing could mess up some relationships 😳👀...   \n30  vz0mnPd  Versuch eines Interviews mit ausländischen Fah...   \n15  vB3iY9I  Logan Paul Sued Coffeezilla for Defamation. He...   \n70  vgIr-dG  Our First Day Back in CHINA was Crazy 🇨🇳 We Ca...   \n81  vMSQja0  中国产品“传入”美国！美国家人用完赞不绝口：不可思议! This Chinese Techn...   \n56  vJAQbN9  Sprachübersetzer von Xfaiyx im Test 📱 Anzeige ...   \n40  vc_of-A  J’espère que le message est passé #fcbarcelona...   \n\n                                           video_tags           product_name  \n75  egipt;;hurghada;;last minute;;wycieczka;;szisz...                    NaN  \n45  product reviews;;technology;;reviews;;gadgets;...                    NaN  \n69                                                NaN                    NaN  \n58  amazonfinds;;amazontechfinds;;amazon;;tech;;te...                    NaN  \n30  vlog;;vlogger;;blogger;;blog;;gtd;;germantruck...                    NaN  \n15  Legalbytes;;legal bytes;;legalbites;;legal bit...  Xfaiyx Smart Recorder  \n70  china;;two mad explorers;;two mad explorers ch...                    NaN  \n81                                                NaN                    NaN  \n56                       übersetzer;;sprachen;;Xfaiyx                    NaN  \n40  fcbarcelona;;nicowilliams;;lamineyamal;;flick;...                    NaN  ",
      "text/html": "<div>\n<style scoped>\n    .dataframe tbody tr th:only-of-type {\n        vertical-align: middle;\n    }\n\n    .dataframe tbody tr th {\n        vertical-align: top;\n    }\n\n    .dataframe thead th {\n        text-align: right;\n    }\n</style>\n<table border=\"1\" class=\"dataframe\">\n  <thead>\n    <tr style=\"text-align: right;\">\n      <th></th>\n      <th>video_id</th>\n      <th>video_desc</th>\n      <th>video_tags</th>\n      <th>product_name</th>\n    </tr>\n  </thead>\n  <tbody>\n    <tr>\n      <th>75</th>\n      <td>v95aInR</td>\n      <td>CENY MIESZKAŃ W EGIPCIE 2024</td>\n      <td>egipt;;hurghada;;last minute;;wycieczka;;szisz...</td>\n      <td>NaN</td>\n    </tr>\n    <tr>\n      <th>45</th>\n      <td>v7lX8Ro</td>\n      <td>Xfaiyx AI Smart Offline Digital Voice Recorder</td>\n      <td>product reviews;;technology;;reviews;;gadgets;...</td>\n      <td>NaN</td>\n    </tr>\n    <tr>\n      <th>69</th>\n      <td>vOREHMM</td>\n      <td>2024's Best Handheld Translator Deal! - Xfaiyx...</td>\n      <td>NaN</td>\n      <td>NaN</td>\n    </tr>\n    <tr>\n      <th>58</th>\n      <td>vmsHv2Z</td>\n      <td>This thing could mess up some relationships 😳👀...</td>\n      <td>amazonfinds;;amazontechfinds;;amazon;;tech;;te...</td>\n      <td>NaN</td>\n    </tr>\n    <tr>\n      <th>30</th>\n      <td>vz0mnPd</td>\n      <td>Versuch eines Interviews mit ausländischen Fah...</td>\n      <td>vlog;;vlogger;;blogger;;blog;;gtd;;germantruck...</td>\n      <td>NaN</td>\n    </tr>\n    <tr>\n      <th>15</th>\n      <td>vB3iY9I</td>\n      <td>Logan Paul Sued Coffeezilla for Defamation. He...</td>\n      <td>Legalbytes;;legal bytes;;legalbites;;legal bit...</td>\n      <td>Xfaiyx Smart Recorder</td>\n    </tr>\n    <tr>\n      <th>70</th>\n      <td>vgIr-dG</td>\n      <td>Our First Day Back in CHINA was Crazy 🇨🇳 We Ca...</td>\n      <td>china;;two mad explorers;;two mad explorers ch...</td>\n      <td>NaN</td>\n    </tr>\n    <tr>\n      <th>81</th>\n      <td>vMSQja0</td>\n      <td>中国产品“传入”美国！美国家人用完赞不绝口：不可思议! This Chinese Techn...</td>\n      <td>NaN</td>\n      <td>NaN</td>\n    </tr>\n    <tr>\n      <th>56</th>\n      <td>vJAQbN9</td>\n      <td>Sprachübersetzer von Xfaiyx im Test 📱 Anzeige ...</td>\n      <td>übersetzer;;sprachen;;Xfaiyx</td>\n      <td>NaN</td>\n    </tr>\n    <tr>\n      <th>40</th>\n      <td>vc_of-A</td>\n      <td>J’espère que le message est passé #fcbarcelona...</td>\n      <td>fcbarcelona;;nicowilliams;;lamineyamal;;flick;...</td>\n      <td>NaN</td>\n    </tr>\n  </tbody>\n</table>\n</div>"
     },
     "execution_count": 2,
     "metadata": {},
     "output_type": "execute_result"
    }
   ],
   "source": [
    "video_data.sample(10)"
   ]
  },
  {
   "cell_type": "code",
   "execution_count": 3,
   "id": "8357ddfe-abbe-4dfe-83d1-c1aaec2bb084",
   "metadata": {
    "execution": {
     "iopub.execute_input": "2025-07-09T08:15:31.864039Z",
     "iopub.status.busy": "2025-07-09T08:15:31.863649Z",
     "iopub.status.idle": "2025-07-09T08:15:31.874591Z",
     "shell.execute_reply": "2025-07-09T08:15:31.874129Z",
     "shell.execute_reply.started": "2025-07-09T08:15:31.864015Z"
    },
    "ExecuteTime": {
     "start_time": "2025-07-11T11:44:24.085864Z",
     "end_time": "2025-07-11T11:44:24.112056Z"
    }
   },
   "outputs": [
    {
     "data": {
      "text/plain": "  video_id comment_id                                       comment_text  \\\n0  v8TdcdK  c-0KPeWgS                         Pro just develop bro codes   \n1  vB3iY9I  c-0uMbk_C  Frivolous lawsuits are against the law!!!!!<br...   \n2  v8TdcdK  c-4-XnVYb  Part 2 two pls I want to know what there punis...   \n3  v8TdcdK  c-7CvRdAr  I tried using the Xfaiyx Translator during my ...   \n4  vWN5LPe  c-9SGtvvf  I’ve been using the Xfaiyx Smart Translator du...   \n\n   sentiment_category  user_scenario  user_question  user_suggestion  \\\n0                 5.0            0.0            0.0              0.0   \n1                 5.0            0.0            0.0              0.0   \n2                 5.0            0.0            0.0              0.0   \n3                 1.0            1.0            0.0              0.0   \n4                 1.0            1.0            0.0              0.0   \n\n   positive_cluster_theme  negative_cluster_theme  scenario_cluster_theme  \\\n0                     NaN                     NaN                     NaN   \n1                     NaN                     NaN                     NaN   \n2                     NaN                     NaN                     NaN   \n3                     NaN                     NaN                     NaN   \n4                     NaN                     NaN                     NaN   \n\n   question_cluster_theme  suggestion_cluster_theme  \n0                     NaN                       NaN  \n1                     NaN                       NaN  \n2                     NaN                       NaN  \n3                     NaN                       NaN  \n4                     NaN                       NaN  ",
      "text/html": "<div>\n<style scoped>\n    .dataframe tbody tr th:only-of-type {\n        vertical-align: middle;\n    }\n\n    .dataframe tbody tr th {\n        vertical-align: top;\n    }\n\n    .dataframe thead th {\n        text-align: right;\n    }\n</style>\n<table border=\"1\" class=\"dataframe\">\n  <thead>\n    <tr style=\"text-align: right;\">\n      <th></th>\n      <th>video_id</th>\n      <th>comment_id</th>\n      <th>comment_text</th>\n      <th>sentiment_category</th>\n      <th>user_scenario</th>\n      <th>user_question</th>\n      <th>user_suggestion</th>\n      <th>positive_cluster_theme</th>\n      <th>negative_cluster_theme</th>\n      <th>scenario_cluster_theme</th>\n      <th>question_cluster_theme</th>\n      <th>suggestion_cluster_theme</th>\n    </tr>\n  </thead>\n  <tbody>\n    <tr>\n      <th>0</th>\n      <td>v8TdcdK</td>\n      <td>c-0KPeWgS</td>\n      <td>Pro just develop bro codes</td>\n      <td>5.0</td>\n      <td>0.0</td>\n      <td>0.0</td>\n      <td>0.0</td>\n      <td>NaN</td>\n      <td>NaN</td>\n      <td>NaN</td>\n      <td>NaN</td>\n      <td>NaN</td>\n    </tr>\n    <tr>\n      <th>1</th>\n      <td>vB3iY9I</td>\n      <td>c-0uMbk_C</td>\n      <td>Frivolous lawsuits are against the law!!!!!&lt;br...</td>\n      <td>5.0</td>\n      <td>0.0</td>\n      <td>0.0</td>\n      <td>0.0</td>\n      <td>NaN</td>\n      <td>NaN</td>\n      <td>NaN</td>\n      <td>NaN</td>\n      <td>NaN</td>\n    </tr>\n    <tr>\n      <th>2</th>\n      <td>v8TdcdK</td>\n      <td>c-4-XnVYb</td>\n      <td>Part 2 two pls I want to know what there punis...</td>\n      <td>5.0</td>\n      <td>0.0</td>\n      <td>0.0</td>\n      <td>0.0</td>\n      <td>NaN</td>\n      <td>NaN</td>\n      <td>NaN</td>\n      <td>NaN</td>\n      <td>NaN</td>\n    </tr>\n    <tr>\n      <th>3</th>\n      <td>v8TdcdK</td>\n      <td>c-7CvRdAr</td>\n      <td>I tried using the Xfaiyx Translator during my ...</td>\n      <td>1.0</td>\n      <td>1.0</td>\n      <td>0.0</td>\n      <td>0.0</td>\n      <td>NaN</td>\n      <td>NaN</td>\n      <td>NaN</td>\n      <td>NaN</td>\n      <td>NaN</td>\n    </tr>\n    <tr>\n      <th>4</th>\n      <td>vWN5LPe</td>\n      <td>c-9SGtvvf</td>\n      <td>I’ve been using the Xfaiyx Smart Translator du...</td>\n      <td>1.0</td>\n      <td>1.0</td>\n      <td>0.0</td>\n      <td>0.0</td>\n      <td>NaN</td>\n      <td>NaN</td>\n      <td>NaN</td>\n      <td>NaN</td>\n      <td>NaN</td>\n    </tr>\n  </tbody>\n</table>\n</div>"
     },
     "execution_count": 3,
     "metadata": {},
     "output_type": "execute_result"
    }
   ],
   "source": [
    "comments_data.head()"
   ]
  },
  {
   "cell_type": "code",
   "execution_count": 4,
   "id": "ecf68f7e-2a86-4be4-a26a-8cec72873f00",
   "metadata": {
    "execution": {
     "iopub.execute_input": "2025-07-09T08:15:31.875389Z",
     "iopub.status.busy": "2025-07-09T08:15:31.875165Z",
     "iopub.status.idle": "2025-07-09T08:15:31.879458Z",
     "shell.execute_reply": "2025-07-09T08:15:31.878946Z",
     "shell.execute_reply.started": "2025-07-09T08:15:31.875370Z"
    },
    "ExecuteTime": {
     "start_time": "2025-07-11T11:44:26.636372Z",
     "end_time": "2025-07-11T11:44:27.714196Z"
    }
   },
   "outputs": [
    {
     "data": {
      "text/plain": "   video_id                                         video_desc  \\\n0   vmCnKGQ               Xfaiyx Smart Recorder Product Review   \n1   vUt-uCX  Xfaiyx SMART TRANSLATOR  Amazon link in link t...   \n2   v3T6mPl  Would you use a Smart Record for school!! Use ...   \n3   vbesCCb  Mit dem Code \"BLUEBRYW\" bekommt ihr 20% Rabatt...   \n4   v1hWN0s  AI has now reached voice recorders 🤯 Xfaiyx's ...   \n..      ...                                                ...   \n80  vHahKrc  いつもの何語かわからないお客様に無敵CA現る😎👑ww #PR#XfaiyxSmartTran...   \n81  vMSQja0  中国产品“传入”美国！美国家人用完赞不绝口：不可思议! This Chinese Techn...   \n82  vnK5t9y  Q:「外国人の彼女欲しいけど英語話せません…」#XfaiyxSmartTranslator ...   \n83  vyumcj7  Let's test their smarts with the Xfaiyx Smart ...   \n84  v2cabia  Living Alone Diaries | A Realistic Day In My L...   \n\n                                           video_tags  \\\n0   Muzain Reviews;;Gadget;;Technology;;Reviews;;U...   \n1   Xfaiyx;;Xfaiyxtranslator;;instantvoicetranslat...   \n2   tiktokbacktoschool;;Xfaiyxrecorder;;tiktokshop...   \n3                           Xfaiyx;;instant;;language   \n4   Xfaiyx;;smartrecorder;;voicerecorder;;business...   \n..                                                ...   \n80  caあるある;;Xfaiyxsmarttranslator;;instantvoicetra...   \n81                                                NaN   \n82  海外の反応;;外国人の反応;;ロシア人の反応;;外人;;外国人;;外国人 日本;;外国人 日...   \n83  tiktokbacktoschool;;tiktokshopfinds;;Xfaiyxtra...   \n84                                                NaN   \n\n               product_name  \\\n0     Xfaiyx Smart Recorder   \n1   Xfaiyx Smart Translator   \n2     Xfaiyx Smart Recorder   \n3   Xfaiyx Smart Translator   \n4     Xfaiyx Smart Recorder   \n..                      ...   \n80                      NaN   \n81                      NaN   \n82                      NaN   \n83                      NaN   \n84                      NaN   \n\n                                                 text language  \n0   Xfaiyx Smart Recorder Product Review Muzain Re...       en  \n1   Xfaiyx SMART TRANSLATOR  Amazon link in link t...       en  \n2   Would you use a Smart Record for school!! Use ...       en  \n3   Mit dem Code \"BLUEBRYW\" bekommt ihr 20% Rabatt...       en  \n4   AI has now reached voice recorders 🤯 Xfaiyx's ...       en  \n..                                                ...      ...  \n80  いつもの何語かわからないお客様に無敵CA現る😎👑ww #PR#XfaiyxSmartTran...       en  \n81  中国产品“传入”美国！美国家人用完赞不绝口：不可思议! This Chinese Techn...       en  \n82  Q:「外国人の彼女欲しいけど英語話せません…」#XfaiyxSmartTranslator ...       ja  \n83  Let's test their smarts with the Xfaiyx Smart ...       en  \n84  Living Alone Diaries | A Realistic Day In My L...       en  \n\n[85 rows x 6 columns]",
      "text/html": "<div>\n<style scoped>\n    .dataframe tbody tr th:only-of-type {\n        vertical-align: middle;\n    }\n\n    .dataframe tbody tr th {\n        vertical-align: top;\n    }\n\n    .dataframe thead th {\n        text-align: right;\n    }\n</style>\n<table border=\"1\" class=\"dataframe\">\n  <thead>\n    <tr style=\"text-align: right;\">\n      <th></th>\n      <th>video_id</th>\n      <th>video_desc</th>\n      <th>video_tags</th>\n      <th>product_name</th>\n      <th>text</th>\n      <th>language</th>\n    </tr>\n  </thead>\n  <tbody>\n    <tr>\n      <th>0</th>\n      <td>vmCnKGQ</td>\n      <td>Xfaiyx Smart Recorder Product Review</td>\n      <td>Muzain Reviews;;Gadget;;Technology;;Reviews;;U...</td>\n      <td>Xfaiyx Smart Recorder</td>\n      <td>Xfaiyx Smart Recorder Product Review Muzain Re...</td>\n      <td>en</td>\n    </tr>\n    <tr>\n      <th>1</th>\n      <td>vUt-uCX</td>\n      <td>Xfaiyx SMART TRANSLATOR  Amazon link in link t...</td>\n      <td>Xfaiyx;;Xfaiyxtranslator;;instantvoicetranslat...</td>\n      <td>Xfaiyx Smart Translator</td>\n      <td>Xfaiyx SMART TRANSLATOR  Amazon link in link t...</td>\n      <td>en</td>\n    </tr>\n    <tr>\n      <th>2</th>\n      <td>v3T6mPl</td>\n      <td>Would you use a Smart Record for school!! Use ...</td>\n      <td>tiktokbacktoschool;;Xfaiyxrecorder;;tiktokshop...</td>\n      <td>Xfaiyx Smart Recorder</td>\n      <td>Would you use a Smart Record for school!! Use ...</td>\n      <td>en</td>\n    </tr>\n    <tr>\n      <th>3</th>\n      <td>vbesCCb</td>\n      <td>Mit dem Code \"BLUEBRYW\" bekommt ihr 20% Rabatt...</td>\n      <td>Xfaiyx;;instant;;language</td>\n      <td>Xfaiyx Smart Translator</td>\n      <td>Mit dem Code \"BLUEBRYW\" bekommt ihr 20% Rabatt...</td>\n      <td>en</td>\n    </tr>\n    <tr>\n      <th>4</th>\n      <td>v1hWN0s</td>\n      <td>AI has now reached voice recorders 🤯 Xfaiyx's ...</td>\n      <td>Xfaiyx;;smartrecorder;;voicerecorder;;business...</td>\n      <td>Xfaiyx Smart Recorder</td>\n      <td>AI has now reached voice recorders 🤯 Xfaiyx's ...</td>\n      <td>en</td>\n    </tr>\n    <tr>\n      <th>...</th>\n      <td>...</td>\n      <td>...</td>\n      <td>...</td>\n      <td>...</td>\n      <td>...</td>\n      <td>...</td>\n    </tr>\n    <tr>\n      <th>80</th>\n      <td>vHahKrc</td>\n      <td>いつもの何語かわからないお客様に無敵CA現る😎👑ww #PR#XfaiyxSmartTran...</td>\n      <td>caあるある;;Xfaiyxsmarttranslator;;instantvoicetra...</td>\n      <td>NaN</td>\n      <td>いつもの何語かわからないお客様に無敵CA現る😎👑ww #PR#XfaiyxSmartTran...</td>\n      <td>en</td>\n    </tr>\n    <tr>\n      <th>81</th>\n      <td>vMSQja0</td>\n      <td>中国产品“传入”美国！美国家人用完赞不绝口：不可思议! This Chinese Techn...</td>\n      <td>NaN</td>\n      <td>NaN</td>\n      <td>中国产品“传入”美国！美国家人用完赞不绝口：不可思议! This Chinese Techn...</td>\n      <td>en</td>\n    </tr>\n    <tr>\n      <th>82</th>\n      <td>vnK5t9y</td>\n      <td>Q:「外国人の彼女欲しいけど英語話せません…」#XfaiyxSmartTranslator ...</td>\n      <td>海外の反応;;外国人の反応;;ロシア人の反応;;外人;;外国人;;外国人 日本;;外国人 日...</td>\n      <td>NaN</td>\n      <td>Q:「外国人の彼女欲しいけど英語話せません…」#XfaiyxSmartTranslator ...</td>\n      <td>ja</td>\n    </tr>\n    <tr>\n      <th>83</th>\n      <td>vyumcj7</td>\n      <td>Let's test their smarts with the Xfaiyx Smart ...</td>\n      <td>tiktokbacktoschool;;tiktokshopfinds;;Xfaiyxtra...</td>\n      <td>NaN</td>\n      <td>Let's test their smarts with the Xfaiyx Smart ...</td>\n      <td>en</td>\n    </tr>\n    <tr>\n      <th>84</th>\n      <td>v2cabia</td>\n      <td>Living Alone Diaries | A Realistic Day In My L...</td>\n      <td>NaN</td>\n      <td>NaN</td>\n      <td>Living Alone Diaries | A Realistic Day In My L...</td>\n      <td>en</td>\n    </tr>\n  </tbody>\n</table>\n<p>85 rows × 6 columns</p>\n</div>"
     },
     "execution_count": 4,
     "metadata": {},
     "output_type": "execute_result"
    }
   ],
   "source": [
    "from langdetect import detect\n",
    "\n",
    "video_data[\"text\"] = video_data[\"video_desc\"].fillna(\"\") + \" \" + video_data[\"video_tags\"].fillna(\"\")\n",
    "\n",
    "def safe_detect(text):\n",
    "    supported_languages = [\"en\", \"ja\", \"de\", \"ko\", \"es\", \"zh-cn\", \"zh-tw\", \"it\", \"pl\"]\n",
    "\n",
    "    if text.strip():  # 检查文本是否非空\n",
    "        language = detect(text)\n",
    "        return language if language in supported_languages else \"default\"\n",
    "    else:\n",
    "        return \"default\"\n",
    "\n",
    "# 检测句子语言为后面分词做准备\n",
    "video_data[\"language\"] = video_data[\"text\"].apply(safe_detect)\n",
    "\n",
    "video_data.iloc[:]\n"
   ]
  },
  {
   "cell_type": "code",
   "execution_count": 5,
   "outputs": [
    {
     "name": "stdout",
     "output_type": "stream",
     "text": [
      "language\n",
      "en    59\n",
      "de     7\n",
      "ja     6\n",
      "es     5\n",
      "ko     2\n",
      "it     2\n",
      "pl     2\n",
      "sv     1\n",
      "fr     1\n",
      "Name: count, dtype: int64\n"
     ]
    }
   ],
   "source": [
    "print(video_data[\"language\"].value_counts())"
   ],
   "metadata": {
    "collapsed": false,
    "ExecuteTime": {
     "start_time": "2025-07-11T11:44:29.823414Z",
     "end_time": "2025-07-11T11:44:29.827840Z"
    }
   }
  },
  {
   "cell_type": "code",
   "execution_count": 6,
   "id": "0fd65630-d75f-4d95-a809-fef578d6b47e",
   "metadata": {
    "execution": {
     "iopub.execute_input": "2025-07-09T08:15:31.880226Z",
     "iopub.status.busy": "2025-07-09T08:15:31.880015Z",
     "iopub.status.idle": "2025-07-09T08:15:32.598601Z",
     "shell.execute_reply": "2025-07-09T08:15:32.598037Z",
     "shell.execute_reply.started": "2025-07-09T08:15:31.880209Z"
    },
    "ExecuteTime": {
     "start_time": "2025-07-11T11:44:32.264832Z",
     "end_time": "2025-07-11T11:44:46.060360Z"
    }
   },
   "outputs": [],
   "source": [
    "import jieba\n",
    "from sklearn.feature_extraction.text import TfidfVectorizer\n",
    "from sklearn.linear_model import SGDClassifier\n",
    "from sklearn.svm import LinearSVC\n",
    "from sklearn.cluster import KMeans\n",
    "from sklearn.pipeline import make_pipeline\n",
    "import spacy"
   ]
  },
  {
   "cell_type": "code",
   "execution_count": 7,
   "id": "52b089e3-9235-4627-93b0-163d96f05b57",
   "metadata": {
    "execution": {
     "iopub.execute_input": "2025-07-09T08:15:32.599665Z",
     "iopub.status.busy": "2025-07-09T08:15:32.599305Z",
     "iopub.status.idle": "2025-07-09T08:15:33.536500Z",
     "shell.execute_reply": "2025-07-09T08:15:33.535910Z",
     "shell.execute_reply.started": "2025-07-09T08:15:32.599643Z"
    },
    "ExecuteTime": {
     "start_time": "2025-07-11T11:44:46.062367Z",
     "end_time": "2025-07-11T11:45:39.155326Z"
    }
   },
   "outputs": [
    {
     "data": {
      "text/plain": "   video_id                                         video_desc  \\\n0   vmCnKGQ               Xfaiyx Smart Recorder Product Review   \n1   vUt-uCX  Xfaiyx SMART TRANSLATOR  Amazon link in link t...   \n2   v3T6mPl  Would you use a Smart Record for school!! Use ...   \n3   vbesCCb  Mit dem Code \"BLUEBRYW\" bekommt ihr 20% Rabatt...   \n4   v1hWN0s  AI has now reached voice recorders 🤯 Xfaiyx's ...   \n..      ...                                                ...   \n80  vHahKrc  いつもの何語かわからないお客様に無敵CA現る😎👑ww #PR#XfaiyxSmartTran...   \n81  vMSQja0  中国产品“传入”美国！美国家人用完赞不绝口：不可思议! This Chinese Techn...   \n82  vnK5t9y  Q:「外国人の彼女欲しいけど英語話せません…」#XfaiyxSmartTranslator ...   \n83  vyumcj7  Let's test their smarts with the Xfaiyx Smart ...   \n84  v2cabia  Living Alone Diaries | A Realistic Day In My L...   \n\n                                           video_tags  \\\n0   Muzain Reviews;;Gadget;;Technology;;Reviews;;U...   \n1   Xfaiyx;;Xfaiyxtranslator;;instantvoicetranslat...   \n2   tiktokbacktoschool;;Xfaiyxrecorder;;tiktokshop...   \n3                           Xfaiyx;;instant;;language   \n4   Xfaiyx;;smartrecorder;;voicerecorder;;business...   \n..                                                ...   \n80  caあるある;;Xfaiyxsmarttranslator;;instantvoicetra...   \n81                                                NaN   \n82  海外の反応;;外国人の反応;;ロシア人の反応;;外人;;外国人;;外国人 日本;;外国人 日...   \n83  tiktokbacktoschool;;tiktokshopfinds;;Xfaiyxtra...   \n84                                                NaN   \n\n               product_name  \\\n0     Xfaiyx Smart Recorder   \n1   Xfaiyx Smart Translator   \n2     Xfaiyx Smart Recorder   \n3   Xfaiyx Smart Translator   \n4     Xfaiyx Smart Recorder   \n..                      ...   \n80  Xfaiyx Smart Translator   \n81    Xfaiyx Smart Recorder   \n82  Xfaiyx Smart Translator   \n83  Xfaiyx Smart Translator   \n84  Xfaiyx Smart Translator   \n\n                                                 text language  \n0   Xfaiyx Smart Recorder Product Review Muzain Re...       en  \n1   Xfaiyx SMART TRANSLATOR  Amazon link in link t...       en  \n2   Would you use a Smart Record for school!! Use ...       en  \n3   Mit dem Code \"BLUEBRYW\" bekommt ihr 20% Rabatt...       en  \n4   AI has now reached voice recorders 🤯 Xfaiyx's ...       en  \n..                                                ...      ...  \n80  いつもの何語かわからないお客様に無敵CA現る😎👑ww #PR#XfaiyxSmartTran...       en  \n81  中国产品“传入”美国！美国家人用完赞不绝口：不可思议! This Chinese Techn...       en  \n82  Q:「外国人の彼女欲しいけど英語話せません…」#XfaiyxSmartTranslator ...       ja  \n83  Let's test their smarts with the Xfaiyx Smart ...       en  \n84  Living Alone Diaries | A Realistic Day In My L...       en  \n\n[85 rows x 6 columns]",
      "text/html": "<div>\n<style scoped>\n    .dataframe tbody tr th:only-of-type {\n        vertical-align: middle;\n    }\n\n    .dataframe tbody tr th {\n        vertical-align: top;\n    }\n\n    .dataframe thead th {\n        text-align: right;\n    }\n</style>\n<table border=\"1\" class=\"dataframe\">\n  <thead>\n    <tr style=\"text-align: right;\">\n      <th></th>\n      <th>video_id</th>\n      <th>video_desc</th>\n      <th>video_tags</th>\n      <th>product_name</th>\n      <th>text</th>\n      <th>language</th>\n    </tr>\n  </thead>\n  <tbody>\n    <tr>\n      <th>0</th>\n      <td>vmCnKGQ</td>\n      <td>Xfaiyx Smart Recorder Product Review</td>\n      <td>Muzain Reviews;;Gadget;;Technology;;Reviews;;U...</td>\n      <td>Xfaiyx Smart Recorder</td>\n      <td>Xfaiyx Smart Recorder Product Review Muzain Re...</td>\n      <td>en</td>\n    </tr>\n    <tr>\n      <th>1</th>\n      <td>vUt-uCX</td>\n      <td>Xfaiyx SMART TRANSLATOR  Amazon link in link t...</td>\n      <td>Xfaiyx;;Xfaiyxtranslator;;instantvoicetranslat...</td>\n      <td>Xfaiyx Smart Translator</td>\n      <td>Xfaiyx SMART TRANSLATOR  Amazon link in link t...</td>\n      <td>en</td>\n    </tr>\n    <tr>\n      <th>2</th>\n      <td>v3T6mPl</td>\n      <td>Would you use a Smart Record for school!! Use ...</td>\n      <td>tiktokbacktoschool;;Xfaiyxrecorder;;tiktokshop...</td>\n      <td>Xfaiyx Smart Recorder</td>\n      <td>Would you use a Smart Record for school!! Use ...</td>\n      <td>en</td>\n    </tr>\n    <tr>\n      <th>3</th>\n      <td>vbesCCb</td>\n      <td>Mit dem Code \"BLUEBRYW\" bekommt ihr 20% Rabatt...</td>\n      <td>Xfaiyx;;instant;;language</td>\n      <td>Xfaiyx Smart Translator</td>\n      <td>Mit dem Code \"BLUEBRYW\" bekommt ihr 20% Rabatt...</td>\n      <td>en</td>\n    </tr>\n    <tr>\n      <th>4</th>\n      <td>v1hWN0s</td>\n      <td>AI has now reached voice recorders 🤯 Xfaiyx's ...</td>\n      <td>Xfaiyx;;smartrecorder;;voicerecorder;;business...</td>\n      <td>Xfaiyx Smart Recorder</td>\n      <td>AI has now reached voice recorders 🤯 Xfaiyx's ...</td>\n      <td>en</td>\n    </tr>\n    <tr>\n      <th>...</th>\n      <td>...</td>\n      <td>...</td>\n      <td>...</td>\n      <td>...</td>\n      <td>...</td>\n      <td>...</td>\n    </tr>\n    <tr>\n      <th>80</th>\n      <td>vHahKrc</td>\n      <td>いつもの何語かわからないお客様に無敵CA現る😎👑ww #PR#XfaiyxSmartTran...</td>\n      <td>caあるある;;Xfaiyxsmarttranslator;;instantvoicetra...</td>\n      <td>Xfaiyx Smart Translator</td>\n      <td>いつもの何語かわからないお客様に無敵CA現る😎👑ww #PR#XfaiyxSmartTran...</td>\n      <td>en</td>\n    </tr>\n    <tr>\n      <th>81</th>\n      <td>vMSQja0</td>\n      <td>中国产品“传入”美国！美国家人用完赞不绝口：不可思议! This Chinese Techn...</td>\n      <td>NaN</td>\n      <td>Xfaiyx Smart Recorder</td>\n      <td>中国产品“传入”美国！美国家人用完赞不绝口：不可思议! This Chinese Techn...</td>\n      <td>en</td>\n    </tr>\n    <tr>\n      <th>82</th>\n      <td>vnK5t9y</td>\n      <td>Q:「外国人の彼女欲しいけど英語話せません…」#XfaiyxSmartTranslator ...</td>\n      <td>海外の反応;;外国人の反応;;ロシア人の反応;;外人;;外国人;;外国人 日本;;外国人 日...</td>\n      <td>Xfaiyx Smart Translator</td>\n      <td>Q:「外国人の彼女欲しいけど英語話せません…」#XfaiyxSmartTranslator ...</td>\n      <td>ja</td>\n    </tr>\n    <tr>\n      <th>83</th>\n      <td>vyumcj7</td>\n      <td>Let's test their smarts with the Xfaiyx Smart ...</td>\n      <td>tiktokbacktoschool;;tiktokshopfinds;;Xfaiyxtra...</td>\n      <td>Xfaiyx Smart Translator</td>\n      <td>Let's test their smarts with the Xfaiyx Smart ...</td>\n      <td>en</td>\n    </tr>\n    <tr>\n      <th>84</th>\n      <td>v2cabia</td>\n      <td>Living Alone Diaries | A Realistic Day In My L...</td>\n      <td>NaN</td>\n      <td>Xfaiyx Smart Translator</td>\n      <td>Living Alone Diaries | A Realistic Day In My L...</td>\n      <td>en</td>\n    </tr>\n  </tbody>\n</table>\n<p>85 rows × 6 columns</p>\n</div>"
     },
     "execution_count": 7,
     "metadata": {},
     "output_type": "execute_result"
    }
   ],
   "source": [
    "\n",
    "spacy_models = {\n",
    "    \"en\": spacy.load(\"en_core_web_sm\"),\n",
    "    \"ja\": spacy.load(\"ja_core_news_sm\"),\n",
    "    \"de\": spacy.load(\"de_core_news_sm\"),\n",
    "    \"ko\": spacy.load(\"ko_core_news_sm\"),\n",
    "    \"es\": spacy.load(\"es_core_news_sm\"),\n",
    "    \"zh-cn\": spacy.load(\"zh_core_web_sm\"),\n",
    "    \"zh-tw\": spacy.load(\"zh_core_web_sm\"),\n",
    "    \"it\": spacy.load(\"it_core_news_sm\"),\n",
    "    \"pl\": spacy.load(\"pl_core_news_sm\"),\n",
    "    \"default\": spacy.load(\"xx_ent_wiki_sm\")\n",
    "}\n",
    "\n",
    "\n",
    "# 根据不同的语言选择不同的分词器\n",
    "def tokenizer(text):\n",
    "    try:\n",
    "        language = safe_detect(text)\n",
    "        if language in spacy_models:\n",
    "            # 从 spacy_models 中获取对应语言的模型\n",
    "            spacy_m = spacy_models[language]\n",
    "            # 使用 spacy 进行分词\n",
    "            doc = spacy_m(text)\n",
    "            # 返回分词后的文本\n",
    "            return [token.text for token in doc]\n",
    "    except Exception as e:\n",
    "        print(f\"⚠️ 分词错误: {e}，文本: '{text}'\")\n",
    "\n",
    "\n",
    "\n",
    "# 创建文本分类管道\n",
    "product_name_predictor = make_pipeline(\n",
    "    TfidfVectorizer(tokenizer=tokenizer, max_features=50, token_pattern=None),  # 中文分词 + TF-IDF特征提取\n",
    "    SGDClassifier()  # 随机梯度下降分类器\n",
    ")\n",
    "\n",
    "# 选择训练数据：从 video_data DataFrame 中筛选出 product_name 不为空的行，作为训练数据。\n",
    "product_name_predictor.fit(\n",
    "    video_data[~video_data[\"product_name\"].isnull()][\"text\"],  # 非空文本作为特征\n",
    "    video_data[~video_data[\"product_name\"].isnull()][\"product_name\"],  # 非空产品名作为标签\n",
    ")\n",
    "\n",
    "# 只对缺失product_name的数据进行商品名预测\n",
    "# df.loc[行选择条件, 列选择条件]\n",
    "video_data.loc[video_data[\"product_name\"].isnull(), \"product_name\"] = product_name_predictor.predict(\n",
    "    video_data[video_data[\"product_name\"].isnull()][\"text\"]\n",
    ")\n",
    "\n",
    "video_data.iloc[:]"
   ]
  },
  {
   "cell_type": "code",
   "execution_count": 8,
   "outputs": [],
   "source": [
    "import re\n",
    "import unicodedata\n",
    "import emoji\n",
    "\n",
    "\n",
    "def emoji_to_text(text):\n",
    "    text = emoji.demojize(text, delimiters=(\" \", \" \"))\n",
    "    text = text.replace(\"_\", \" \")\n",
    "    return text\n",
    "\n",
    "\n",
    "def clean_char(text):\n",
    "    text = unicodedata.normalize('NFKC', str(text))\n",
    "    text = re.sub(r'(\\d+)[€$¥]', r'\\1 [currency] ', text)\n",
    "    text = re.sub(r'[@#&]', ' [symbol] ', text)  # @ → [symbol]\n",
    "    text = re.sub(r'^\\W+$', '', text)  # 纯符号 → 空\n",
    "    return text"
   ],
   "metadata": {
    "collapsed": false,
    "ExecuteTime": {
     "start_time": "2025-07-11T11:45:39.163857Z",
     "end_time": "2025-07-11T11:45:39.243978Z"
    }
   }
  },
  {
   "cell_type": "code",
   "execution_count": 9,
   "outputs": [
    {
     "data": {
      "text/plain": "Index(['video_id', 'comment_id', 'comment_text', 'sentiment_category',\n       'user_scenario', 'user_question', 'user_suggestion',\n       'positive_cluster_theme', 'negative_cluster_theme',\n       'scenario_cluster_theme', 'question_cluster_theme',\n       'suggestion_cluster_theme'],\n      dtype='object')"
     },
     "execution_count": 9,
     "metadata": {},
     "output_type": "execute_result"
    }
   ],
   "source": [
    "comments_data.columns"
   ],
   "metadata": {
    "collapsed": false,
    "ExecuteTime": {
     "start_time": "2025-07-11T11:45:39.200740Z",
     "end_time": "2025-07-11T11:45:39.248519Z"
    }
   }
  },
  {
   "cell_type": "code",
   "execution_count": 10,
   "outputs": [
    {
     "data": {
      "text/plain": "     video_id comment_id                                       comment_text  \\\n0     v8TdcdK  c-0KPeWgS                         Pro just develop bro codes   \n1     vB3iY9I  c-0uMbk_C  Frivolous lawsuits are against the law!!!!!<br...   \n2     v8TdcdK  c-4-XnVYb  Part 2 two pls I want to know what there punis...   \n3     v8TdcdK  c-7CvRdAr  I tried using the Xfaiyx Translator during my ...   \n4     vWN5LPe  c-9SGtvvf  I’ve been using the Xfaiyx Smart Translator du...   \n...       ...        ...                                                ...   \n6471  vOREHMM  cznE14nWP              Is it suitable for business meetings?   \n6472  vJAQbN9  czp-Lr69-  Ich spreche deutsch englisch und chinesisch. B...   \n6473  vdzrIP2  czsum0ump   翻訳機を使った結果が少し直訳的で意味が通じない部分がありました。次のバージョンに期待しています。   \n6474  vZNFtEb  cztffSUXy  이 번역기가 실시간 번역 속도가 빠른가요? 여행 중에 바로바로 사용할 수 있는지 궁...   \n6475  v5cquLT  czxgzseHK  The translations are fast, but sometimes the d...   \n\n      sentiment_category  user_scenario  user_question  user_suggestion  \\\n0                    5.0            0.0            0.0              0.0   \n1                    5.0            0.0            0.0              0.0   \n2                    5.0            0.0            0.0              0.0   \n3                    1.0            1.0            0.0              0.0   \n4                    1.0            1.0            0.0              0.0   \n...                  ...            ...            ...              ...   \n6471                 NaN            NaN            NaN              NaN   \n6472                 NaN            NaN            NaN              NaN   \n6473                 NaN            NaN            NaN              NaN   \n6474                 NaN            NaN            NaN              NaN   \n6475                 NaN            NaN            NaN              NaN   \n\n      positive_cluster_theme  negative_cluster_theme  scenario_cluster_theme  \\\n0                        NaN                     NaN                     NaN   \n1                        NaN                     NaN                     NaN   \n2                        NaN                     NaN                     NaN   \n3                        NaN                     NaN                     NaN   \n4                        NaN                     NaN                     NaN   \n...                      ...                     ...                     ...   \n6471                     NaN                     NaN                     NaN   \n6472                     NaN                     NaN                     NaN   \n6473                     NaN                     NaN                     NaN   \n6474                     NaN                     NaN                     NaN   \n6475                     NaN                     NaN                     NaN   \n\n      question_cluster_theme  suggestion_cluster_theme  \n0                        NaN                       NaN  \n1                        NaN                       NaN  \n2                        NaN                       NaN  \n3                        NaN                       NaN  \n4                        NaN                       NaN  \n...                      ...                       ...  \n6471                     NaN                       NaN  \n6472                     NaN                       NaN  \n6473                     NaN                       NaN  \n6474                     NaN                       NaN  \n6475                     NaN                       NaN  \n\n[6476 rows x 12 columns]",
      "text/html": "<div>\n<style scoped>\n    .dataframe tbody tr th:only-of-type {\n        vertical-align: middle;\n    }\n\n    .dataframe tbody tr th {\n        vertical-align: top;\n    }\n\n    .dataframe thead th {\n        text-align: right;\n    }\n</style>\n<table border=\"1\" class=\"dataframe\">\n  <thead>\n    <tr style=\"text-align: right;\">\n      <th></th>\n      <th>video_id</th>\n      <th>comment_id</th>\n      <th>comment_text</th>\n      <th>sentiment_category</th>\n      <th>user_scenario</th>\n      <th>user_question</th>\n      <th>user_suggestion</th>\n      <th>positive_cluster_theme</th>\n      <th>negative_cluster_theme</th>\n      <th>scenario_cluster_theme</th>\n      <th>question_cluster_theme</th>\n      <th>suggestion_cluster_theme</th>\n    </tr>\n  </thead>\n  <tbody>\n    <tr>\n      <th>0</th>\n      <td>v8TdcdK</td>\n      <td>c-0KPeWgS</td>\n      <td>Pro just develop bro codes</td>\n      <td>5.0</td>\n      <td>0.0</td>\n      <td>0.0</td>\n      <td>0.0</td>\n      <td>NaN</td>\n      <td>NaN</td>\n      <td>NaN</td>\n      <td>NaN</td>\n      <td>NaN</td>\n    </tr>\n    <tr>\n      <th>1</th>\n      <td>vB3iY9I</td>\n      <td>c-0uMbk_C</td>\n      <td>Frivolous lawsuits are against the law!!!!!&lt;br...</td>\n      <td>5.0</td>\n      <td>0.0</td>\n      <td>0.0</td>\n      <td>0.0</td>\n      <td>NaN</td>\n      <td>NaN</td>\n      <td>NaN</td>\n      <td>NaN</td>\n      <td>NaN</td>\n    </tr>\n    <tr>\n      <th>2</th>\n      <td>v8TdcdK</td>\n      <td>c-4-XnVYb</td>\n      <td>Part 2 two pls I want to know what there punis...</td>\n      <td>5.0</td>\n      <td>0.0</td>\n      <td>0.0</td>\n      <td>0.0</td>\n      <td>NaN</td>\n      <td>NaN</td>\n      <td>NaN</td>\n      <td>NaN</td>\n      <td>NaN</td>\n    </tr>\n    <tr>\n      <th>3</th>\n      <td>v8TdcdK</td>\n      <td>c-7CvRdAr</td>\n      <td>I tried using the Xfaiyx Translator during my ...</td>\n      <td>1.0</td>\n      <td>1.0</td>\n      <td>0.0</td>\n      <td>0.0</td>\n      <td>NaN</td>\n      <td>NaN</td>\n      <td>NaN</td>\n      <td>NaN</td>\n      <td>NaN</td>\n    </tr>\n    <tr>\n      <th>4</th>\n      <td>vWN5LPe</td>\n      <td>c-9SGtvvf</td>\n      <td>I’ve been using the Xfaiyx Smart Translator du...</td>\n      <td>1.0</td>\n      <td>1.0</td>\n      <td>0.0</td>\n      <td>0.0</td>\n      <td>NaN</td>\n      <td>NaN</td>\n      <td>NaN</td>\n      <td>NaN</td>\n      <td>NaN</td>\n    </tr>\n    <tr>\n      <th>...</th>\n      <td>...</td>\n      <td>...</td>\n      <td>...</td>\n      <td>...</td>\n      <td>...</td>\n      <td>...</td>\n      <td>...</td>\n      <td>...</td>\n      <td>...</td>\n      <td>...</td>\n      <td>...</td>\n      <td>...</td>\n    </tr>\n    <tr>\n      <th>6471</th>\n      <td>vOREHMM</td>\n      <td>cznE14nWP</td>\n      <td>Is it suitable for business meetings?</td>\n      <td>NaN</td>\n      <td>NaN</td>\n      <td>NaN</td>\n      <td>NaN</td>\n      <td>NaN</td>\n      <td>NaN</td>\n      <td>NaN</td>\n      <td>NaN</td>\n      <td>NaN</td>\n    </tr>\n    <tr>\n      <th>6472</th>\n      <td>vJAQbN9</td>\n      <td>czp-Lr69-</td>\n      <td>Ich spreche deutsch englisch und chinesisch. B...</td>\n      <td>NaN</td>\n      <td>NaN</td>\n      <td>NaN</td>\n      <td>NaN</td>\n      <td>NaN</td>\n      <td>NaN</td>\n      <td>NaN</td>\n      <td>NaN</td>\n      <td>NaN</td>\n    </tr>\n    <tr>\n      <th>6473</th>\n      <td>vdzrIP2</td>\n      <td>czsum0ump</td>\n      <td>翻訳機を使った結果が少し直訳的で意味が通じない部分がありました。次のバージョンに期待しています。</td>\n      <td>NaN</td>\n      <td>NaN</td>\n      <td>NaN</td>\n      <td>NaN</td>\n      <td>NaN</td>\n      <td>NaN</td>\n      <td>NaN</td>\n      <td>NaN</td>\n      <td>NaN</td>\n    </tr>\n    <tr>\n      <th>6474</th>\n      <td>vZNFtEb</td>\n      <td>cztffSUXy</td>\n      <td>이 번역기가 실시간 번역 속도가 빠른가요? 여행 중에 바로바로 사용할 수 있는지 궁...</td>\n      <td>NaN</td>\n      <td>NaN</td>\n      <td>NaN</td>\n      <td>NaN</td>\n      <td>NaN</td>\n      <td>NaN</td>\n      <td>NaN</td>\n      <td>NaN</td>\n      <td>NaN</td>\n    </tr>\n    <tr>\n      <th>6475</th>\n      <td>v5cquLT</td>\n      <td>czxgzseHK</td>\n      <td>The translations are fast, but sometimes the d...</td>\n      <td>NaN</td>\n      <td>NaN</td>\n      <td>NaN</td>\n      <td>NaN</td>\n      <td>NaN</td>\n      <td>NaN</td>\n      <td>NaN</td>\n      <td>NaN</td>\n      <td>NaN</td>\n    </tr>\n  </tbody>\n</table>\n<p>6476 rows × 12 columns</p>\n</div>"
     },
     "execution_count": 10,
     "metadata": {},
     "output_type": "execute_result"
    }
   ],
   "source": [
    "# 将comment_text中的emoji转换为文本\n",
    "comments_data[\"comment_text\"] = comments_data[\"comment_text\"].apply(emoji_to_text)\n",
    "\n",
    "comments_data.iloc[:]"
   ],
   "metadata": {
    "collapsed": false,
    "ExecuteTime": {
     "start_time": "2025-07-11T11:45:39.203947Z",
     "end_time": "2025-07-11T11:45:39.548468Z"
    }
   }
  },
  {
   "cell_type": "code",
   "execution_count": 11,
   "outputs": [
    {
     "data": {
      "text/plain": "     video_id comment_id                                       comment_text  \\\n0     v8TdcdK  c-0KPeWgS                         Pro just develop bro codes   \n1     vB3iY9I  c-0uMbk_C  Frivolous lawsuits are against the law!!!!!<br...   \n2     v8TdcdK  c-4-XnVYb  Part 2 two pls I want to know what there punis...   \n3     v8TdcdK  c-7CvRdAr  I tried using the Xfaiyx Translator during my ...   \n4     vWN5LPe  c-9SGtvvf  I’ve been using the Xfaiyx Smart Translator du...   \n...       ...        ...                                                ...   \n6471  vOREHMM  cznE14nWP              Is it suitable for business meetings?   \n6472  vJAQbN9  czp-Lr69-  Ich spreche deutsch englisch und chinesisch. B...   \n6473  vdzrIP2  czsum0ump   翻訳機を使った結果が少し直訳的で意味が通じない部分がありました。次のバージョンに期待しています。   \n6474  vZNFtEb  cztffSUXy  이 번역기가 실시간 번역 속도가 빠른가요? 여행 중에 바로바로 사용할 수 있는지 궁...   \n6475  v5cquLT  czxgzseHK  The translations are fast, but sometimes the d...   \n\n      sentiment_category  user_scenario  user_question  user_suggestion  \\\n0                    5.0            0.0            0.0              0.0   \n1                    5.0            0.0            0.0              0.0   \n2                    5.0            0.0            0.0              0.0   \n3                    1.0            1.0            0.0              0.0   \n4                    1.0            1.0            0.0              0.0   \n...                  ...            ...            ...              ...   \n6471                 NaN            NaN            NaN              NaN   \n6472                 NaN            NaN            NaN              NaN   \n6473                 NaN            NaN            NaN              NaN   \n6474                 NaN            NaN            NaN              NaN   \n6475                 NaN            NaN            NaN              NaN   \n\n      positive_cluster_theme  negative_cluster_theme  scenario_cluster_theme  \\\n0                        NaN                     NaN                     NaN   \n1                        NaN                     NaN                     NaN   \n2                        NaN                     NaN                     NaN   \n3                        NaN                     NaN                     NaN   \n4                        NaN                     NaN                     NaN   \n...                      ...                     ...                     ...   \n6471                     NaN                     NaN                     NaN   \n6472                     NaN                     NaN                     NaN   \n6473                     NaN                     NaN                     NaN   \n6474                     NaN                     NaN                     NaN   \n6475                     NaN                     NaN                     NaN   \n\n      question_cluster_theme  suggestion_cluster_theme  \n0                        NaN                       NaN  \n1                        NaN                       NaN  \n2                        NaN                       NaN  \n3                        NaN                       NaN  \n4                        NaN                       NaN  \n...                      ...                       ...  \n6471                     NaN                       NaN  \n6472                     NaN                       NaN  \n6473                     NaN                       NaN  \n6474                     NaN                       NaN  \n6475                     NaN                       NaN  \n\n[6476 rows x 12 columns]",
      "text/html": "<div>\n<style scoped>\n    .dataframe tbody tr th:only-of-type {\n        vertical-align: middle;\n    }\n\n    .dataframe tbody tr th {\n        vertical-align: top;\n    }\n\n    .dataframe thead th {\n        text-align: right;\n    }\n</style>\n<table border=\"1\" class=\"dataframe\">\n  <thead>\n    <tr style=\"text-align: right;\">\n      <th></th>\n      <th>video_id</th>\n      <th>comment_id</th>\n      <th>comment_text</th>\n      <th>sentiment_category</th>\n      <th>user_scenario</th>\n      <th>user_question</th>\n      <th>user_suggestion</th>\n      <th>positive_cluster_theme</th>\n      <th>negative_cluster_theme</th>\n      <th>scenario_cluster_theme</th>\n      <th>question_cluster_theme</th>\n      <th>suggestion_cluster_theme</th>\n    </tr>\n  </thead>\n  <tbody>\n    <tr>\n      <th>0</th>\n      <td>v8TdcdK</td>\n      <td>c-0KPeWgS</td>\n      <td>Pro just develop bro codes</td>\n      <td>5.0</td>\n      <td>0.0</td>\n      <td>0.0</td>\n      <td>0.0</td>\n      <td>NaN</td>\n      <td>NaN</td>\n      <td>NaN</td>\n      <td>NaN</td>\n      <td>NaN</td>\n    </tr>\n    <tr>\n      <th>1</th>\n      <td>vB3iY9I</td>\n      <td>c-0uMbk_C</td>\n      <td>Frivolous lawsuits are against the law!!!!!&lt;br...</td>\n      <td>5.0</td>\n      <td>0.0</td>\n      <td>0.0</td>\n      <td>0.0</td>\n      <td>NaN</td>\n      <td>NaN</td>\n      <td>NaN</td>\n      <td>NaN</td>\n      <td>NaN</td>\n    </tr>\n    <tr>\n      <th>2</th>\n      <td>v8TdcdK</td>\n      <td>c-4-XnVYb</td>\n      <td>Part 2 two pls I want to know what there punis...</td>\n      <td>5.0</td>\n      <td>0.0</td>\n      <td>0.0</td>\n      <td>0.0</td>\n      <td>NaN</td>\n      <td>NaN</td>\n      <td>NaN</td>\n      <td>NaN</td>\n      <td>NaN</td>\n    </tr>\n    <tr>\n      <th>3</th>\n      <td>v8TdcdK</td>\n      <td>c-7CvRdAr</td>\n      <td>I tried using the Xfaiyx Translator during my ...</td>\n      <td>1.0</td>\n      <td>1.0</td>\n      <td>0.0</td>\n      <td>0.0</td>\n      <td>NaN</td>\n      <td>NaN</td>\n      <td>NaN</td>\n      <td>NaN</td>\n      <td>NaN</td>\n    </tr>\n    <tr>\n      <th>4</th>\n      <td>vWN5LPe</td>\n      <td>c-9SGtvvf</td>\n      <td>I’ve been using the Xfaiyx Smart Translator du...</td>\n      <td>1.0</td>\n      <td>1.0</td>\n      <td>0.0</td>\n      <td>0.0</td>\n      <td>NaN</td>\n      <td>NaN</td>\n      <td>NaN</td>\n      <td>NaN</td>\n      <td>NaN</td>\n    </tr>\n    <tr>\n      <th>...</th>\n      <td>...</td>\n      <td>...</td>\n      <td>...</td>\n      <td>...</td>\n      <td>...</td>\n      <td>...</td>\n      <td>...</td>\n      <td>...</td>\n      <td>...</td>\n      <td>...</td>\n      <td>...</td>\n      <td>...</td>\n    </tr>\n    <tr>\n      <th>6471</th>\n      <td>vOREHMM</td>\n      <td>cznE14nWP</td>\n      <td>Is it suitable for business meetings?</td>\n      <td>NaN</td>\n      <td>NaN</td>\n      <td>NaN</td>\n      <td>NaN</td>\n      <td>NaN</td>\n      <td>NaN</td>\n      <td>NaN</td>\n      <td>NaN</td>\n      <td>NaN</td>\n    </tr>\n    <tr>\n      <th>6472</th>\n      <td>vJAQbN9</td>\n      <td>czp-Lr69-</td>\n      <td>Ich spreche deutsch englisch und chinesisch. B...</td>\n      <td>NaN</td>\n      <td>NaN</td>\n      <td>NaN</td>\n      <td>NaN</td>\n      <td>NaN</td>\n      <td>NaN</td>\n      <td>NaN</td>\n      <td>NaN</td>\n      <td>NaN</td>\n    </tr>\n    <tr>\n      <th>6473</th>\n      <td>vdzrIP2</td>\n      <td>czsum0ump</td>\n      <td>翻訳機を使った結果が少し直訳的で意味が通じない部分がありました。次のバージョンに期待しています。</td>\n      <td>NaN</td>\n      <td>NaN</td>\n      <td>NaN</td>\n      <td>NaN</td>\n      <td>NaN</td>\n      <td>NaN</td>\n      <td>NaN</td>\n      <td>NaN</td>\n      <td>NaN</td>\n    </tr>\n    <tr>\n      <th>6474</th>\n      <td>vZNFtEb</td>\n      <td>cztffSUXy</td>\n      <td>이 번역기가 실시간 번역 속도가 빠른가요? 여행 중에 바로바로 사용할 수 있는지 궁...</td>\n      <td>NaN</td>\n      <td>NaN</td>\n      <td>NaN</td>\n      <td>NaN</td>\n      <td>NaN</td>\n      <td>NaN</td>\n      <td>NaN</td>\n      <td>NaN</td>\n      <td>NaN</td>\n    </tr>\n    <tr>\n      <th>6475</th>\n      <td>v5cquLT</td>\n      <td>czxgzseHK</td>\n      <td>The translations are fast, but sometimes the d...</td>\n      <td>NaN</td>\n      <td>NaN</td>\n      <td>NaN</td>\n      <td>NaN</td>\n      <td>NaN</td>\n      <td>NaN</td>\n      <td>NaN</td>\n      <td>NaN</td>\n      <td>NaN</td>\n    </tr>\n  </tbody>\n</table>\n<p>6476 rows × 12 columns</p>\n</div>"
     },
     "execution_count": 11,
     "metadata": {},
     "output_type": "execute_result"
    }
   ],
   "source": [
    "# 处理杂项字符\n",
    "comments_data[\"comment_text\"] = comments_data[\"comment_text\"].apply(clean_char)\n",
    "comments_data.iloc[:]"
   ],
   "metadata": {
    "collapsed": false,
    "ExecuteTime": {
     "start_time": "2025-07-11T11:45:39.548468Z",
     "end_time": "2025-07-11T11:45:39.638614Z"
    }
   }
  },
  {
   "cell_type": "code",
   "execution_count": 12,
   "outputs": [
    {
     "data": {
      "text/plain": "     video_id comment_id                                       comment_text  \\\n0     v8TdcdK  c-0KPeWgS                         Pro just develop bro codes   \n1     vB3iY9I  c-0uMbk_C  Frivolous lawsuits are against the law!!!!!<br...   \n2     v8TdcdK  c-4-XnVYb  Part 2 two pls I want to know what there punis...   \n3     v8TdcdK  c-7CvRdAr  I tried using the Xfaiyx Translator during my ...   \n4     vWN5LPe  c-9SGtvvf  I’ve been using the Xfaiyx Smart Translator du...   \n...       ...        ...                                                ...   \n6471  vOREHMM  cznE14nWP              Is it suitable for business meetings?   \n6472  vJAQbN9  czp-Lr69-  Ich spreche deutsch englisch und chinesisch. B...   \n6473  vdzrIP2  czsum0ump   翻訳機を使った結果が少し直訳的で意味が通じない部分がありました。次のバージョンに期待しています。   \n6474  vZNFtEb  cztffSUXy  이 번역기가 실시간 번역 속도가 빠른가요? 여행 중에 바로바로 사용할 수 있는지 궁...   \n6475  v5cquLT  czxgzseHK  The translations are fast, but sometimes the d...   \n\n      sentiment_category  user_scenario  user_question  user_suggestion  \\\n0                    5.0            0.0            0.0              0.0   \n1                    5.0            0.0            0.0              0.0   \n2                    5.0            0.0            0.0              0.0   \n3                    1.0            1.0            0.0              0.0   \n4                    1.0            1.0            0.0              0.0   \n...                  ...            ...            ...              ...   \n6471                 NaN            NaN            NaN              NaN   \n6472                 NaN            NaN            NaN              NaN   \n6473                 NaN            NaN            NaN              NaN   \n6474                 NaN            NaN            NaN              NaN   \n6475                 NaN            NaN            NaN              NaN   \n\n      positive_cluster_theme  negative_cluster_theme  scenario_cluster_theme  \\\n0                        NaN                     NaN                     NaN   \n1                        NaN                     NaN                     NaN   \n2                        NaN                     NaN                     NaN   \n3                        NaN                     NaN                     NaN   \n4                        NaN                     NaN                     NaN   \n...                      ...                     ...                     ...   \n6471                     NaN                     NaN                     NaN   \n6472                     NaN                     NaN                     NaN   \n6473                     NaN                     NaN                     NaN   \n6474                     NaN                     NaN                     NaN   \n6475                     NaN                     NaN                     NaN   \n\n      question_cluster_theme  suggestion_cluster_theme  \n0                        NaN                       NaN  \n1                        NaN                       NaN  \n2                        NaN                       NaN  \n3                        NaN                       NaN  \n4                        NaN                       NaN  \n...                      ...                       ...  \n6471                     NaN                       NaN  \n6472                     NaN                       NaN  \n6473                     NaN                       NaN  \n6474                     NaN                       NaN  \n6475                     NaN                       NaN  \n\n[6476 rows x 12 columns]",
      "text/html": "<div>\n<style scoped>\n    .dataframe tbody tr th:only-of-type {\n        vertical-align: middle;\n    }\n\n    .dataframe tbody tr th {\n        vertical-align: top;\n    }\n\n    .dataframe thead th {\n        text-align: right;\n    }\n</style>\n<table border=\"1\" class=\"dataframe\">\n  <thead>\n    <tr style=\"text-align: right;\">\n      <th></th>\n      <th>video_id</th>\n      <th>comment_id</th>\n      <th>comment_text</th>\n      <th>sentiment_category</th>\n      <th>user_scenario</th>\n      <th>user_question</th>\n      <th>user_suggestion</th>\n      <th>positive_cluster_theme</th>\n      <th>negative_cluster_theme</th>\n      <th>scenario_cluster_theme</th>\n      <th>question_cluster_theme</th>\n      <th>suggestion_cluster_theme</th>\n    </tr>\n  </thead>\n  <tbody>\n    <tr>\n      <th>0</th>\n      <td>v8TdcdK</td>\n      <td>c-0KPeWgS</td>\n      <td>Pro just develop bro codes</td>\n      <td>5.0</td>\n      <td>0.0</td>\n      <td>0.0</td>\n      <td>0.0</td>\n      <td>NaN</td>\n      <td>NaN</td>\n      <td>NaN</td>\n      <td>NaN</td>\n      <td>NaN</td>\n    </tr>\n    <tr>\n      <th>1</th>\n      <td>vB3iY9I</td>\n      <td>c-0uMbk_C</td>\n      <td>Frivolous lawsuits are against the law!!!!!&lt;br...</td>\n      <td>5.0</td>\n      <td>0.0</td>\n      <td>0.0</td>\n      <td>0.0</td>\n      <td>NaN</td>\n      <td>NaN</td>\n      <td>NaN</td>\n      <td>NaN</td>\n      <td>NaN</td>\n    </tr>\n    <tr>\n      <th>2</th>\n      <td>v8TdcdK</td>\n      <td>c-4-XnVYb</td>\n      <td>Part 2 two pls I want to know what there punis...</td>\n      <td>5.0</td>\n      <td>0.0</td>\n      <td>0.0</td>\n      <td>0.0</td>\n      <td>NaN</td>\n      <td>NaN</td>\n      <td>NaN</td>\n      <td>NaN</td>\n      <td>NaN</td>\n    </tr>\n    <tr>\n      <th>3</th>\n      <td>v8TdcdK</td>\n      <td>c-7CvRdAr</td>\n      <td>I tried using the Xfaiyx Translator during my ...</td>\n      <td>1.0</td>\n      <td>1.0</td>\n      <td>0.0</td>\n      <td>0.0</td>\n      <td>NaN</td>\n      <td>NaN</td>\n      <td>NaN</td>\n      <td>NaN</td>\n      <td>NaN</td>\n    </tr>\n    <tr>\n      <th>4</th>\n      <td>vWN5LPe</td>\n      <td>c-9SGtvvf</td>\n      <td>I’ve been using the Xfaiyx Smart Translator du...</td>\n      <td>1.0</td>\n      <td>1.0</td>\n      <td>0.0</td>\n      <td>0.0</td>\n      <td>NaN</td>\n      <td>NaN</td>\n      <td>NaN</td>\n      <td>NaN</td>\n      <td>NaN</td>\n    </tr>\n    <tr>\n      <th>...</th>\n      <td>...</td>\n      <td>...</td>\n      <td>...</td>\n      <td>...</td>\n      <td>...</td>\n      <td>...</td>\n      <td>...</td>\n      <td>...</td>\n      <td>...</td>\n      <td>...</td>\n      <td>...</td>\n      <td>...</td>\n    </tr>\n    <tr>\n      <th>6471</th>\n      <td>vOREHMM</td>\n      <td>cznE14nWP</td>\n      <td>Is it suitable for business meetings?</td>\n      <td>NaN</td>\n      <td>NaN</td>\n      <td>NaN</td>\n      <td>NaN</td>\n      <td>NaN</td>\n      <td>NaN</td>\n      <td>NaN</td>\n      <td>NaN</td>\n      <td>NaN</td>\n    </tr>\n    <tr>\n      <th>6472</th>\n      <td>vJAQbN9</td>\n      <td>czp-Lr69-</td>\n      <td>Ich spreche deutsch englisch und chinesisch. B...</td>\n      <td>NaN</td>\n      <td>NaN</td>\n      <td>NaN</td>\n      <td>NaN</td>\n      <td>NaN</td>\n      <td>NaN</td>\n      <td>NaN</td>\n      <td>NaN</td>\n      <td>NaN</td>\n    </tr>\n    <tr>\n      <th>6473</th>\n      <td>vdzrIP2</td>\n      <td>czsum0ump</td>\n      <td>翻訳機を使った結果が少し直訳的で意味が通じない部分がありました。次のバージョンに期待しています。</td>\n      <td>NaN</td>\n      <td>NaN</td>\n      <td>NaN</td>\n      <td>NaN</td>\n      <td>NaN</td>\n      <td>NaN</td>\n      <td>NaN</td>\n      <td>NaN</td>\n      <td>NaN</td>\n    </tr>\n    <tr>\n      <th>6474</th>\n      <td>vZNFtEb</td>\n      <td>cztffSUXy</td>\n      <td>이 번역기가 실시간 번역 속도가 빠른가요? 여행 중에 바로바로 사용할 수 있는지 궁...</td>\n      <td>NaN</td>\n      <td>NaN</td>\n      <td>NaN</td>\n      <td>NaN</td>\n      <td>NaN</td>\n      <td>NaN</td>\n      <td>NaN</td>\n      <td>NaN</td>\n      <td>NaN</td>\n    </tr>\n    <tr>\n      <th>6475</th>\n      <td>v5cquLT</td>\n      <td>czxgzseHK</td>\n      <td>The translations are fast, but sometimes the d...</td>\n      <td>NaN</td>\n      <td>NaN</td>\n      <td>NaN</td>\n      <td>NaN</td>\n      <td>NaN</td>\n      <td>NaN</td>\n      <td>NaN</td>\n      <td>NaN</td>\n      <td>NaN</td>\n    </tr>\n  </tbody>\n</table>\n<p>6476 rows × 12 columns</p>\n</div>"
     },
     "execution_count": 12,
     "metadata": {},
     "output_type": "execute_result"
    }
   ],
   "source": [
    "# 定义要删除/修改的特定文本列表\n",
    "invalid_texts = ['$339 :0', '1']\n",
    "# # 使用 ~isin() 反向选择保留其他行\n",
    "# comments_data = comments_data[~comments_data['comment_text'].isin(invalid_texts)].copy()\n",
    "# 将这些文本替换为空字符串\n",
    "comments_data.loc[comments_data['comment_text'].isin(invalid_texts), 'comment_text'] = ''\n",
    "\n",
    "comments_data.iloc[:]"
   ],
   "metadata": {
    "collapsed": false,
    "ExecuteTime": {
     "start_time": "2025-07-11T11:47:21.708785Z",
     "end_time": "2025-07-11T11:47:21.739251Z"
    }
   }
  },
  {
   "cell_type": "code",
   "execution_count": 13,
   "outputs": [],
   "source": [
    "\n",
    "# 清除comment_text缺失的数据\n",
    "comments_data.dropna(subset=[\"comment_text\"], inplace=True)\n",
    "\n",
    "comments_data.iloc[:]"
   ],
   "metadata": {
    "collapsed": false,
    "ExecuteTime": {
     "start_time": "2025-07-11T11:47:24.198047Z",
     "end_time": "2025-07-11T11:47:24.210331Z"
    }
   }
  },
  {
   "cell_type": "code",
   "execution_count": 14,
   "outputs": [
    {
     "data": {
      "text/plain": "     video_id comment_id                                       comment_text  \\\n0     v8TdcdK  c-0KPeWgS                         Pro just develop bro codes   \n1     vB3iY9I  c-0uMbk_C  Frivolous lawsuits are against the law!!!!!<br...   \n2     v8TdcdK  c-4-XnVYb  Part 2 two pls I want to know what there punis...   \n3     v8TdcdK  c-7CvRdAr  I tried using the Xfaiyx Translator during my ...   \n4     vWN5LPe  c-9SGtvvf  I’ve been using the Xfaiyx Smart Translator du...   \n...       ...        ...                                                ...   \n6471  vOREHMM  cznE14nWP              Is it suitable for business meetings?   \n6472  vJAQbN9  czp-Lr69-  Ich spreche deutsch englisch und chinesisch. B...   \n6473  vdzrIP2  czsum0ump   翻訳機を使った結果が少し直訳的で意味が通じない部分がありました。次のバージョンに期待しています。   \n6474  vZNFtEb  cztffSUXy  이 번역기가 실시간 번역 속도가 빠른가요? 여행 중에 바로바로 사용할 수 있는지 궁...   \n6475  v5cquLT  czxgzseHK  The translations are fast, but sometimes the d...   \n\n      sentiment_category  user_scenario  user_question  user_suggestion  \\\n0                    5.0            0.0            0.0              0.0   \n1                    5.0            0.0            0.0              0.0   \n2                    5.0            0.0            0.0              0.0   \n3                    1.0            1.0            0.0              0.0   \n4                    1.0            1.0            0.0              0.0   \n...                  ...            ...            ...              ...   \n6471                 NaN            NaN            NaN              NaN   \n6472                 NaN            NaN            NaN              NaN   \n6473                 NaN            NaN            NaN              NaN   \n6474                 NaN            NaN            NaN              NaN   \n6475                 NaN            NaN            NaN              NaN   \n\n      positive_cluster_theme  negative_cluster_theme  scenario_cluster_theme  \\\n0                        NaN                     NaN                     NaN   \n1                        NaN                     NaN                     NaN   \n2                        NaN                     NaN                     NaN   \n3                        NaN                     NaN                     NaN   \n4                        NaN                     NaN                     NaN   \n...                      ...                     ...                     ...   \n6471                     NaN                     NaN                     NaN   \n6472                     NaN                     NaN                     NaN   \n6473                     NaN                     NaN                     NaN   \n6474                     NaN                     NaN                     NaN   \n6475                     NaN                     NaN                     NaN   \n\n      question_cluster_theme  suggestion_cluster_theme language  \n0                        NaN                       NaN       pt  \n1                        NaN                       NaN       en  \n2                        NaN                       NaN       en  \n3                        NaN                       NaN       en  \n4                        NaN                       NaN       en  \n...                      ...                       ...      ...  \n6471                     NaN                       NaN       en  \n6472                     NaN                       NaN       de  \n6473                     NaN                       NaN       ja  \n6474                     NaN                       NaN       ko  \n6475                     NaN                       NaN       en  \n\n[6474 rows x 13 columns]",
      "text/html": "<div>\n<style scoped>\n    .dataframe tbody tr th:only-of-type {\n        vertical-align: middle;\n    }\n\n    .dataframe tbody tr th {\n        vertical-align: top;\n    }\n\n    .dataframe thead th {\n        text-align: right;\n    }\n</style>\n<table border=\"1\" class=\"dataframe\">\n  <thead>\n    <tr style=\"text-align: right;\">\n      <th></th>\n      <th>video_id</th>\n      <th>comment_id</th>\n      <th>comment_text</th>\n      <th>sentiment_category</th>\n      <th>user_scenario</th>\n      <th>user_question</th>\n      <th>user_suggestion</th>\n      <th>positive_cluster_theme</th>\n      <th>negative_cluster_theme</th>\n      <th>scenario_cluster_theme</th>\n      <th>question_cluster_theme</th>\n      <th>suggestion_cluster_theme</th>\n      <th>language</th>\n    </tr>\n  </thead>\n  <tbody>\n    <tr>\n      <th>0</th>\n      <td>v8TdcdK</td>\n      <td>c-0KPeWgS</td>\n      <td>Pro just develop bro codes</td>\n      <td>5.0</td>\n      <td>0.0</td>\n      <td>0.0</td>\n      <td>0.0</td>\n      <td>NaN</td>\n      <td>NaN</td>\n      <td>NaN</td>\n      <td>NaN</td>\n      <td>NaN</td>\n      <td>pt</td>\n    </tr>\n    <tr>\n      <th>1</th>\n      <td>vB3iY9I</td>\n      <td>c-0uMbk_C</td>\n      <td>Frivolous lawsuits are against the law!!!!!&lt;br...</td>\n      <td>5.0</td>\n      <td>0.0</td>\n      <td>0.0</td>\n      <td>0.0</td>\n      <td>NaN</td>\n      <td>NaN</td>\n      <td>NaN</td>\n      <td>NaN</td>\n      <td>NaN</td>\n      <td>en</td>\n    </tr>\n    <tr>\n      <th>2</th>\n      <td>v8TdcdK</td>\n      <td>c-4-XnVYb</td>\n      <td>Part 2 two pls I want to know what there punis...</td>\n      <td>5.0</td>\n      <td>0.0</td>\n      <td>0.0</td>\n      <td>0.0</td>\n      <td>NaN</td>\n      <td>NaN</td>\n      <td>NaN</td>\n      <td>NaN</td>\n      <td>NaN</td>\n      <td>en</td>\n    </tr>\n    <tr>\n      <th>3</th>\n      <td>v8TdcdK</td>\n      <td>c-7CvRdAr</td>\n      <td>I tried using the Xfaiyx Translator during my ...</td>\n      <td>1.0</td>\n      <td>1.0</td>\n      <td>0.0</td>\n      <td>0.0</td>\n      <td>NaN</td>\n      <td>NaN</td>\n      <td>NaN</td>\n      <td>NaN</td>\n      <td>NaN</td>\n      <td>en</td>\n    </tr>\n    <tr>\n      <th>4</th>\n      <td>vWN5LPe</td>\n      <td>c-9SGtvvf</td>\n      <td>I’ve been using the Xfaiyx Smart Translator du...</td>\n      <td>1.0</td>\n      <td>1.0</td>\n      <td>0.0</td>\n      <td>0.0</td>\n      <td>NaN</td>\n      <td>NaN</td>\n      <td>NaN</td>\n      <td>NaN</td>\n      <td>NaN</td>\n      <td>en</td>\n    </tr>\n    <tr>\n      <th>...</th>\n      <td>...</td>\n      <td>...</td>\n      <td>...</td>\n      <td>...</td>\n      <td>...</td>\n      <td>...</td>\n      <td>...</td>\n      <td>...</td>\n      <td>...</td>\n      <td>...</td>\n      <td>...</td>\n      <td>...</td>\n      <td>...</td>\n    </tr>\n    <tr>\n      <th>6471</th>\n      <td>vOREHMM</td>\n      <td>cznE14nWP</td>\n      <td>Is it suitable for business meetings?</td>\n      <td>NaN</td>\n      <td>NaN</td>\n      <td>NaN</td>\n      <td>NaN</td>\n      <td>NaN</td>\n      <td>NaN</td>\n      <td>NaN</td>\n      <td>NaN</td>\n      <td>NaN</td>\n      <td>en</td>\n    </tr>\n    <tr>\n      <th>6472</th>\n      <td>vJAQbN9</td>\n      <td>czp-Lr69-</td>\n      <td>Ich spreche deutsch englisch und chinesisch. B...</td>\n      <td>NaN</td>\n      <td>NaN</td>\n      <td>NaN</td>\n      <td>NaN</td>\n      <td>NaN</td>\n      <td>NaN</td>\n      <td>NaN</td>\n      <td>NaN</td>\n      <td>NaN</td>\n      <td>de</td>\n    </tr>\n    <tr>\n      <th>6473</th>\n      <td>vdzrIP2</td>\n      <td>czsum0ump</td>\n      <td>翻訳機を使った結果が少し直訳的で意味が通じない部分がありました。次のバージョンに期待しています。</td>\n      <td>NaN</td>\n      <td>NaN</td>\n      <td>NaN</td>\n      <td>NaN</td>\n      <td>NaN</td>\n      <td>NaN</td>\n      <td>NaN</td>\n      <td>NaN</td>\n      <td>NaN</td>\n      <td>ja</td>\n    </tr>\n    <tr>\n      <th>6474</th>\n      <td>vZNFtEb</td>\n      <td>cztffSUXy</td>\n      <td>이 번역기가 실시간 번역 속도가 빠른가요? 여행 중에 바로바로 사용할 수 있는지 궁...</td>\n      <td>NaN</td>\n      <td>NaN</td>\n      <td>NaN</td>\n      <td>NaN</td>\n      <td>NaN</td>\n      <td>NaN</td>\n      <td>NaN</td>\n      <td>NaN</td>\n      <td>NaN</td>\n      <td>ko</td>\n    </tr>\n    <tr>\n      <th>6475</th>\n      <td>v5cquLT</td>\n      <td>czxgzseHK</td>\n      <td>The translations are fast, but sometimes the d...</td>\n      <td>NaN</td>\n      <td>NaN</td>\n      <td>NaN</td>\n      <td>NaN</td>\n      <td>NaN</td>\n      <td>NaN</td>\n      <td>NaN</td>\n      <td>NaN</td>\n      <td>NaN</td>\n      <td>en</td>\n    </tr>\n  </tbody>\n</table>\n<p>6474 rows × 13 columns</p>\n</div>"
     },
     "execution_count": 14,
     "metadata": {},
     "output_type": "execute_result"
    }
   ],
   "source": [
    "# 检测评论语言为后面分词做准备\n",
    "comments_data[\"language\"] = comments_data[\"comment_text\"].apply(safe_detect)\n",
    "\n",
    "comments_data.iloc[:]"
   ],
   "metadata": {
    "collapsed": false,
    "ExecuteTime": {
     "start_time": "2025-07-11T11:47:30.301524Z",
     "end_time": "2025-07-11T11:47:47.369402Z"
    }
   }
  },
  {
   "cell_type": "code",
   "execution_count": 15,
   "outputs": [
    {
     "name": "stdout",
     "output_type": "stream",
     "text": [
      "language\n",
      "en         4181\n",
      "ja          465\n",
      "de          455\n",
      "ko          241\n",
      "es          165\n",
      "it          142\n",
      "zh-cn       117\n",
      "pl          106\n",
      "id           62\n",
      "fr           61\n",
      "so           58\n",
      "cy           56\n",
      "af           38\n",
      "sw           35\n",
      "tl           31\n",
      "nl           25\n",
      "et           24\n",
      "vi           23\n",
      "da           21\n",
      "ro           19\n",
      "no           19\n",
      "tr           14\n",
      "fi           13\n",
      "zh-tw        12\n",
      "sv           12\n",
      "pt           11\n",
      "sk            8\n",
      "hu            8\n",
      "sl            7\n",
      "sq            7\n",
      "bn            7\n",
      "ca            6\n",
      "hr            6\n",
      "cs            5\n",
      "hi            5\n",
      "lt            3\n",
      "ar            2\n",
      "default       2\n",
      "ur            1\n",
      "th            1\n",
      "Name: count, dtype: int64\n"
     ]
    }
   ],
   "source": [
    "print(comments_data[\"language\"].value_counts())"
   ],
   "metadata": {
    "collapsed": false,
    "ExecuteTime": {
     "start_time": "2025-07-11T11:47:49.803050Z",
     "end_time": "2025-07-11T11:47:49.809202Z"
    }
   }
  },
  {
   "cell_type": "code",
   "execution_count": 37,
   "outputs": [
    {
     "name": "stderr",
     "output_type": "stream",
     "text": [
      "D:\\Anaconda\\envs\\NLP\\Lib\\site-packages\\sklearn\\feature_extraction\\text.py:517: UserWarning: The parameter 'token_pattern' will not be used since 'tokenizer' is not None'\n",
      "  warnings.warn(\n",
      "D:\\Anaconda\\envs\\NLP\\Lib\\site-packages\\sklearn\\feature_extraction\\text.py:517: UserWarning: The parameter 'token_pattern' will not be used since 'tokenizer' is not None'\n",
      "  warnings.warn(\n",
      "D:\\Anaconda\\envs\\NLP\\Lib\\site-packages\\sklearn\\feature_extraction\\text.py:517: UserWarning: The parameter 'token_pattern' will not be used since 'tokenizer' is not None'\n",
      "  warnings.warn(\n",
      "D:\\Anaconda\\envs\\NLP\\Lib\\site-packages\\sklearn\\feature_extraction\\text.py:517: UserWarning: The parameter 'token_pattern' will not be used since 'tokenizer' is not None'\n",
      "  warnings.warn(\n"
     ]
    }
   ],
   "source": [
    "for col in ['sentiment_category',\n",
    "       'user_scenario', 'user_question', 'user_suggestion']:\n",
    "    predictor = make_pipeline(\n",
    "        TfidfVectorizer(tokenizer=tokenizer), SGDClassifier()\n",
    "    )\n",
    "    predictor.fit(\n",
    "        comments_data[~comments_data[col].isnull()][\"comment_text\"],\n",
    "        comments_data[~comments_data[col].isnull()][col],\n",
    "    )\n",
    "    comments_data[col] = predictor.predict(comments_data[\"comment_text\"])"
   ],
   "metadata": {
    "collapsed": false,
    "ExecuteTime": {
     "start_time": "2025-07-10T23:20:41.720132Z",
     "end_time": "2025-07-10T23:25:36.761961Z"
    }
   }
  },
  {
   "cell_type": "code",
   "execution_count": 38,
   "id": "dd8a32dd-3d54-40c4-8209-7a3173901f55",
   "metadata": {
    "execution": {
     "iopub.execute_input": "2025-07-09T08:15:38.699577Z",
     "iopub.status.busy": "2025-07-09T08:15:38.699323Z",
     "iopub.status.idle": "2025-07-09T08:15:38.702320Z",
     "shell.execute_reply": "2025-07-09T08:15:38.701760Z",
     "shell.execute_reply.started": "2025-07-09T08:15:38.699560Z"
    },
    "ExecuteTime": {
     "start_time": "2025-07-10T23:27:22.350899Z",
     "end_time": "2025-07-10T23:27:22.362678Z"
    }
   },
   "outputs": [],
   "source": [
    "\n",
    "def comment_clustering(data, sentiment_category, cluster_theme_select, cluster_theme, n_clusters=8, top_n_words=10,\n",
    "                       tokenizer=jieba.lcut):\n",
    "    \"\"\"\n",
    "    对评论进行聚类分析，提取主题词。\n",
    "    :param data: DataFrame，评论数据\n",
    "\n",
    "    :param sentiment_category: list，\n",
    "    指定情感或场景类别的列表，\n",
    "    情感类别[1, 2, 3, 4, 5]分别代表正面、负面、正负都包含、中性、不相关\n",
    "    场景类别[1，0]分别代表与用户场景相关和不相关\n",
    "\n",
    "    :param cluster_theme_select: str，\n",
    "    选择用于聚类的情感或场景类别列名，\n",
    "    情感类别：'sentiment_category'\n",
    "    场景类别：'user_scenario', 'user_question', 'user_suggestion'\n",
    "\n",
    "    :param cluster_theme: str，聚类主题词存储的列名\n",
    "    :param n_clusters: int，聚类的数量，默认为8\n",
    "    :param top_n_words: int，每个聚类提取的主题词数量，默认为10\n",
    "    :param tokenizer: function，用于分词的函数，默认为jieba.lcut\n",
    "\n",
    "    :return: DataFrame，包含聚类主题词的新列\n",
    "    :return: list，包含每个聚类的主题词\n",
    "    \"\"\"\n",
    "\n",
    "    kmeans_predictor = make_pipeline(\n",
    "        TfidfVectorizer(tokenizer=tokenizer), KMeans(n_clusters=n_clusters)\n",
    "    )\n",
    "\n",
    "    # 筛选指定情感类别的评论进行聚类训练，例如sentiment_category=[1,3]\n",
    "    kmeans_predictor.fit(data[data[cluster_theme_select].isin(sentiment_category)][\"comment_text\"])\n",
    "\n",
    "    # 预测聚类标签\n",
    "    kmeans_cluster_label = kmeans_predictor.predict(\n",
    "        data[data[cluster_theme_select].isin(sentiment_category)][\"comment_text\"])\n",
    "\n",
    "    # 用于存储每个聚类的主题词\n",
    "    kmeans_top_word = []\n",
    "\n",
    "    # 获取TF-IDF向量化器和KMeans模型\n",
    "    tfidf_vectorizer = kmeans_predictor.named_steps['tfidfvectorizer']\n",
    "    kmeans_model = kmeans_predictor.named_steps['kmeans']\n",
    "\n",
    "    # 获取TF-IDF向量化后的所有特征词(词汇表)\n",
    "    feature_names = tfidf_vectorizer.get_feature_names_out()\n",
    "    # 获取K-means模型中每个聚类的中心点坐标\n",
    "    cluster_centers = kmeans_model.cluster_centers_\n",
    "\n",
    "    # 对每个聚类n_clusters=8\n",
    "    for i in range(kmeans_model.n_clusters):\n",
    "        # 将聚类中心向量的值按降序排列，获取索引\n",
    "        top_feature_indices = cluster_centers[i].argsort()[::-1]\n",
    "        # 取前top_n_words(10)个索引对应的特征词\n",
    "        top_word = ' '.join([feature_names[idx] for idx in top_feature_indices[:top_n_words]])\n",
    "        kmeans_top_word.append(top_word)\n",
    "\n",
    "    # 只针对情感类别为1(正面)或3(负面)的评论：\n",
    "    # 根据之前预测的聚类标签kmeans_cluster_label，查找对应的主题词\n",
    "    # 将主题词存入新列positive_cluster_theme中\n",
    "    data.loc[data[cluster_theme_select].isin(sentiment_category), cluster_theme] = [kmeans_top_word[x] for x in\n",
    "                                                                                    kmeans_cluster_label]\n",
    "\n",
    "    return data, kmeans_top_word"
   ]
  },
  {
   "cell_type": "code",
   "execution_count": 48,
   "id": "ae9a39ca-5a63-4562-840c-8d6d421d44de",
   "metadata": {
    "execution": {
     "iopub.execute_input": "2025-07-09T08:15:38.703242Z",
     "iopub.status.busy": "2025-07-09T08:15:38.703021Z",
     "iopub.status.idle": "2025-07-09T08:15:39.187195Z",
     "shell.execute_reply": "2025-07-09T08:15:39.186647Z",
     "shell.execute_reply.started": "2025-07-09T08:15:38.703225Z"
    },
    "ExecuteTime": {
     "start_time": "2025-07-10T23:33:13.666869Z",
     "end_time": "2025-07-10T23:33:37.149974Z"
    }
   },
   "outputs": [
    {
     "name": "stderr",
     "output_type": "stream",
     "text": [
      "D:\\Anaconda\\envs\\NLP\\Lib\\site-packages\\sklearn\\feature_extraction\\text.py:517: UserWarning: The parameter 'token_pattern' will not be used since 'tokenizer' is not None'\n",
      "  warnings.warn(\n"
     ]
    }
   ],
   "source": [
    "# 正面倾向聚类\n",
    "comments_data, positive_topics = comment_clustering(\n",
    "    data=comments_data,\n",
    "    sentiment_category=[1, 3],  # 正面,正负都包含\n",
    "    cluster_theme_select='sentiment_category',\n",
    "    cluster_theme='positive_cluster_theme',\n",
    "    n_clusters=8,\n",
    "    top_n_words=10,\n",
    "    tokenizer=tokenizer\n",
    ")"
   ]
  },
  {
   "cell_type": "code",
   "execution_count": 50,
   "id": "bbc02eb3-46f4-4482-9669-d83cf647c3b4",
   "metadata": {
    "execution": {
     "iopub.execute_input": "2025-07-09T08:15:39.188120Z",
     "iopub.status.busy": "2025-07-09T08:15:39.187867Z",
     "iopub.status.idle": "2025-07-09T08:15:39.613248Z",
     "shell.execute_reply": "2025-07-09T08:15:39.612579Z",
     "shell.execute_reply.started": "2025-07-09T08:15:39.188102Z"
    },
    "scrolled": true,
    "ExecuteTime": {
     "start_time": "2025-07-10T23:34:07.209705Z",
     "end_time": "2025-07-10T23:34:27.596135Z"
    }
   },
   "outputs": [
    {
     "name": "stderr",
     "output_type": "stream",
     "text": [
      "D:\\Anaconda\\envs\\NLP\\Lib\\site-packages\\sklearn\\feature_extraction\\text.py:517: UserWarning: The parameter 'token_pattern' will not be used since 'tokenizer' is not None'\n",
      "  warnings.warn(\n"
     ]
    }
   ],
   "source": [
    "# 负面倾向聚类\n",
    "comments_data, negative_topics = comment_clustering(\n",
    "    data=comments_data,\n",
    "    sentiment_category=[2, 3],  # 负面,正负都包含\n",
    "    cluster_theme_select='sentiment_category',\n",
    "    cluster_theme='negative_cluster_theme',\n",
    "    n_clusters=8,\n",
    "    top_n_words=10,\n",
    "    tokenizer=tokenizer\n",
    ")"
   ]
  },
  {
   "cell_type": "code",
   "execution_count": 51,
   "id": "e0f21f45-b535-4173-b924-38d87a00f479",
   "metadata": {
    "execution": {
     "iopub.execute_input": "2025-07-09T08:15:39.614625Z",
     "iopub.status.busy": "2025-07-09T08:15:39.614151Z",
     "iopub.status.idle": "2025-07-09T08:15:40.004271Z",
     "shell.execute_reply": "2025-07-09T08:15:40.003576Z",
     "shell.execute_reply.started": "2025-07-09T08:15:39.614594Z"
    },
    "ExecuteTime": {
     "start_time": "2025-07-10T23:34:57.989413Z",
     "end_time": "2025-07-10T23:35:11.192965Z"
    }
   },
   "outputs": [
    {
     "name": "stderr",
     "output_type": "stream",
     "text": [
      "D:\\Anaconda\\envs\\NLP\\Lib\\site-packages\\sklearn\\feature_extraction\\text.py:517: UserWarning: The parameter 'token_pattern' will not be used since 'tokenizer' is not None'\n",
      "  warnings.warn(\n"
     ]
    }
   ],
   "source": [
    "# 用户场景聚类\n",
    "comments_data, scenario_topics = comment_clustering(\n",
    "    data=comments_data,\n",
    "    sentiment_category=[1],\n",
    "    cluster_theme_select='user_scenario',\n",
    "    cluster_theme='scenario_cluster_theme',\n",
    "    n_clusters=8,\n",
    "    top_n_words=10,\n",
    "    tokenizer=tokenizer\n",
    ")"
   ]
  },
  {
   "cell_type": "code",
   "execution_count": 52,
   "id": "e0130512-8c16-49fc-819c-bc4e34d5ca85",
   "metadata": {
    "execution": {
     "iopub.execute_input": "2025-07-09T08:15:40.005794Z",
     "iopub.status.busy": "2025-07-09T08:15:40.005197Z",
     "iopub.status.idle": "2025-07-09T08:15:40.245992Z",
     "shell.execute_reply": "2025-07-09T08:15:40.245304Z",
     "shell.execute_reply.started": "2025-07-09T08:15:40.005747Z"
    },
    "ExecuteTime": {
     "start_time": "2025-07-10T23:35:13.247055Z",
     "end_time": "2025-07-10T23:35:27.702423Z"
    }
   },
   "outputs": [
    {
     "name": "stderr",
     "output_type": "stream",
     "text": [
      "D:\\Anaconda\\envs\\NLP\\Lib\\site-packages\\sklearn\\feature_extraction\\text.py:517: UserWarning: The parameter 'token_pattern' will not be used since 'tokenizer' is not None'\n",
      "  warnings.warn(\n"
     ]
    }
   ],
   "source": [
    "# 用户疑问聚类\n",
    "comments_data, question_topics = comment_clustering(\n",
    "    data=comments_data,\n",
    "    sentiment_category=[1],\n",
    "    cluster_theme_select='user_question',\n",
    "    cluster_theme='question_cluster_theme',\n",
    "    n_clusters=8,\n",
    "    top_n_words=10,\n",
    "    tokenizer=tokenizer\n",
    ")"
   ]
  },
  {
   "cell_type": "code",
   "execution_count": 53,
   "id": "2d91aa69-cefb-4501-a961-7929a50d1dbc",
   "metadata": {
    "execution": {
     "iopub.execute_input": "2025-07-09T08:15:40.247251Z",
     "iopub.status.busy": "2025-07-09T08:15:40.246900Z",
     "iopub.status.idle": "2025-07-09T08:15:40.401413Z",
     "shell.execute_reply": "2025-07-09T08:15:40.400707Z",
     "shell.execute_reply.started": "2025-07-09T08:15:40.247219Z"
    },
    "ExecuteTime": {
     "start_time": "2025-07-10T23:35:31.591201Z",
     "end_time": "2025-07-10T23:35:37.588493Z"
    }
   },
   "outputs": [
    {
     "name": "stderr",
     "output_type": "stream",
     "text": [
      "D:\\Anaconda\\envs\\NLP\\Lib\\site-packages\\sklearn\\feature_extraction\\text.py:517: UserWarning: The parameter 'token_pattern' will not be used since 'tokenizer' is not None'\n",
      "  warnings.warn(\n"
     ]
    }
   ],
   "source": [
    "# 用户建议聚类\n",
    "comments_data, suggestion_topics = comment_clustering(\n",
    "    data=comments_data,\n",
    "    sentiment_category=[1],\n",
    "    cluster_theme_select='user_suggestion',\n",
    "    cluster_theme='suggestion_cluster_theme',\n",
    "    n_clusters=8,\n",
    "    top_n_words=10,\n",
    "    tokenizer=tokenizer\n",
    ")"
   ]
  },
  {
   "cell_type": "code",
   "execution_count": 55,
   "id": "dbded330-9ba7-456e-88ca-faa7d9da3a8f",
   "metadata": {
    "execution": {
     "iopub.execute_input": "2025-07-09T08:15:40.402621Z",
     "iopub.status.busy": "2025-07-09T08:15:40.402268Z",
     "iopub.status.idle": "2025-07-09T08:15:40.530058Z",
     "shell.execute_reply": "2025-07-09T08:15:40.529265Z",
     "shell.execute_reply.started": "2025-07-09T08:15:40.402591Z"
    },
    "ExecuteTime": {
     "start_time": "2025-07-10T23:35:52.689040Z",
     "end_time": "2025-07-10T23:35:52.718360Z"
    }
   },
   "outputs": [],
   "source": [
    "import os\n",
    "\n",
    "if not os.path.exists(\"submit\"):\n",
    "    os.makedirs(\"submit\")"
   ]
  },
  {
   "cell_type": "code",
   "execution_count": 56,
   "id": "1c7325ad-cd3c-48a0-b0ae-949c8c0210a1",
   "metadata": {
    "execution": {
     "iopub.execute_input": "2025-07-09T08:15:40.531493Z",
     "iopub.status.busy": "2025-07-09T08:15:40.531176Z",
     "iopub.status.idle": "2025-07-09T08:15:40.661656Z",
     "shell.execute_reply": "2025-07-09T08:15:40.661078Z",
     "shell.execute_reply.started": "2025-07-09T08:15:40.531469Z"
    },
    "ExecuteTime": {
     "start_time": "2025-07-10T23:35:55.282347Z",
     "end_time": "2025-07-10T23:35:55.310891Z"
    }
   },
   "outputs": [],
   "source": [
    "video_data[[\"video_id\", \"product_name\"]].to_csv(\"submit/submit_videos.csv\", index=None)\n",
    "comments_data[['video_id', 'comment_id', 'sentiment_category',\n",
    "       'user_scenario', 'user_question', 'user_suggestion',\n",
    "       'positive_cluster_theme', 'negative_cluster_theme',\n",
    "       'scenario_cluster_theme', 'question_cluster_theme',\n",
    "       'suggestion_cluster_theme']].to_csv(\"submit/submit_comments.csv\", index=None)"
   ]
  },
  {
   "cell_type": "code",
   "execution_count": 46,
   "id": "f144e5b4-ac93-425c-85a5-06e250a04e5f",
   "metadata": {
    "execution": {
     "iopub.execute_input": "2025-07-09T08:15:40.662672Z",
     "iopub.status.busy": "2025-07-09T08:15:40.662429Z",
     "iopub.status.idle": "2025-07-09T08:15:40.874962Z",
     "shell.execute_reply": "2025-07-09T08:15:40.874227Z",
     "shell.execute_reply.started": "2025-07-09T08:15:40.662655Z"
    },
    "ExecuteTime": {
     "start_time": "2025-07-10T23:27:45.256012Z",
     "end_time": "2025-07-10T23:27:45.286598Z"
    }
   },
   "outputs": [
    {
     "name": "stderr",
     "output_type": "stream",
     "text": [
      "'zip' 不是内部或外部命令，也不是可运行的程序\n",
      "或批处理文件。\n"
     ]
    }
   ],
   "source": [
    "!zip -r submit.zip submit/"
   ]
  },
  {
   "cell_type": "code",
   "execution_count": null,
   "id": "c8db79b4-e9dd-4194-bc9c-469dfd8ce429",
   "metadata": {},
   "outputs": [],
   "source": []
  }
 ],
 "metadata": {
  "kernelspec": {
   "display_name": "Python 3 (ipykernel)",
   "language": "python",
   "name": "python3"
  },
  "language_info": {
   "codemirror_mode": {
    "name": "ipython",
    "version": 3
   },
   "file_extension": ".py",
   "mimetype": "text/x-python",
   "name": "python",
   "nbconvert_exporter": "python",
   "pygments_lexer": "ipython3",
   "version": "3.11.11"
  }
 },
 "nbformat": 4,
 "nbformat_minor": 5
}
